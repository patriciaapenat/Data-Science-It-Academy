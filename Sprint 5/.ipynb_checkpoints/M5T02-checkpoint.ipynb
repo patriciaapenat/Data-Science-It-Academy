{
 "cells": [
  {
   "cell_type": "markdown",
   "id": "eb133922",
   "metadata": {},
   "source": [
    "# Tasca M5 T01"
   ]
  },
  {
   "cell_type": "markdown",
   "id": "4ba74c18",
   "metadata": {},
   "source": [
    "    Exercicis de Train-Test amb ScikitLearn a partir d'un dataset amb informació sobre les vivendes de Houston."
   ]
  },
  {
   "cell_type": "code",
   "execution_count": 1,
   "id": "327885ff",
   "metadata": {},
   "outputs": [],
   "source": [
    "import pandas as pd\n",
    "import numpy as np\n",
    "import seaborn as sns\n",
    "import matplotlib.pyplot as plt\n",
    "from IPython.display import display"
   ]
  },
  {
   "cell_type": "code",
   "execution_count": 2,
   "id": "6f4f7b6e",
   "metadata": {},
   "outputs": [],
   "source": [
    "# configurar els gràfics\n",
    "sns.set_style('whitegrid')\n",
    "sns.set_palette('flare')"
   ]
  },
  {
   "cell_type": "markdown",
   "id": "164bf1c7",
   "metadata": {},
   "source": [
    "## Exercici 1\n",
    "Parteix el conjunt de dades adjunt en train i test. Estudia els dos conjunts per separat, a nivell descriptiu.\n",
    "També adjunt trobaràs una descripció de les diferents variables del dataset."
   ]
  },
  {
   "cell_type": "markdown",
   "id": "761a45eb",
   "metadata": {},
   "source": [
    "1. CRIM      per capita crime rate by town\n",
    "2. ZN        proportion of residential land zoned for lots over 25,000 sq.ft.\n",
    "3. INDUS     proportion of non-retail business acres per town\n",
    "4. CHAS      Charles River dummy variable (= 1 if tract bounds river; 0 otherwise)\n",
    "6. RM        average number of rooms per dwelling\n",
    "7. AGE       proportion of owner-occupied units built prior to 1940\n",
    "8. DIS       weighted distances to five Boston employment centres\n",
    "9. RAD       index of accessibility to radial highways\n",
    "10. TAX      full-value property-tax rate per 10,000 dollars\n",
    "11. PTRATIO  pupil-teacher ratio by town\n",
    "12. B 1000(Bk - 0.63)^2 where Bk is the proportion of blacks by town\n",
    "13. LSTAT    % lower status of the population\n",
    "14. MEDV     Median value of owner-occupied homes in $1000's\n",
    "\n",
    "*Missing Attribute Values:  None."
   ]
  },
  {
   "cell_type": "code",
   "execution_count": 3,
   "id": "7d74bfbf",
   "metadata": {},
   "outputs": [],
   "source": [
    "# Llegir l'arxiu\n",
    "rawhousing = pd.read_csv(\"C:/Users/Patricia/Downloads/housing data.csv\", sep=',', header=None)"
   ]
  },
  {
   "cell_type": "code",
   "execution_count": 4,
   "id": "d0b7a766",
   "metadata": {},
   "outputs": [],
   "source": [
    "# Afegir els noms de les columnes\n",
    "rawhousing.columns = ['CRIM', 'ZN', 'INDUS', 'CHAS', 'NOX', 'RM', 'AGE', 'DIS','RAD','TAX','PRATIO', 'B_1000', 'LSTAT', 'MEDV']"
   ]
  },
  {
   "cell_type": "code",
   "execution_count": 5,
   "id": "1b8e82bf",
   "metadata": {},
   "outputs": [],
   "source": [
    "housing_orig = pd.DataFrame(rawhousing)"
   ]
  },
  {
   "cell_type": "code",
   "execution_count": 6,
   "id": "b8f4699e",
   "metadata": {},
   "outputs": [],
   "source": [
    "# Carregar l'informació adicional del dataset\n",
    "info_columnes = {\n",
    "    'CRIM': 'per capita crime rate by town',\n",
    "    'ZN': 'proportion of residential land zoned for lots over 25,000 sq.ft.',\n",
    "    'INDUS': 'proportion of non-retail business acres per town',\n",
    "    'CHAS': 'Charles River dummy variable (= 1 if tract bounds river; 0 otherwise)',\n",
    "    'NOX' : 'nitric oxides concentration (parts per 10 million)',\n",
    "    'RM': 'average number of rooms per dwelling',\n",
    "    'AGE': 'proportion of owner-occupied units built prior to 1940',\n",
    "    'DIS': 'weighted distances to five Boston employment centres',\n",
    "    'RAD': 'index of accessibility to radial highways',\n",
    "    'TAX': 'full-value property-tax rate per 10,000 dollars',\n",
    "    'PRATIO': 'pupil-teacher ratio by town',\n",
    "    'B_1000': '1000(Bk - 0.63)^2 where Bk is the proportion of blacks by town',\n",
    "    'LSTAT': '% lower status of the population',\n",
    "    'MEDV': 'Median value of owner-occupied homes in $1000\\'s'\n",
    "}"
   ]
  },
  {
   "cell_type": "code",
   "execution_count": 7,
   "id": "efedc035",
   "metadata": {},
   "outputs": [
    {
     "name": "stdout",
     "output_type": "stream",
     "text": [
      "<class 'pandas.core.frame.DataFrame'>\n",
      "RangeIndex: 506 entries, 0 to 505\n",
      "Data columns (total 14 columns):\n",
      " #   Column  Non-Null Count  Dtype  \n",
      "---  ------  --------------  -----  \n",
      " 0   CRIM    506 non-null    float64\n",
      " 1   ZN      506 non-null    float64\n",
      " 2   INDUS   506 non-null    float64\n",
      " 3   CHAS    506 non-null    int64  \n",
      " 4   NOX     506 non-null    float64\n",
      " 5   RM      506 non-null    float64\n",
      " 6   AGE     506 non-null    float64\n",
      " 7   DIS     506 non-null    float64\n",
      " 8   RAD     506 non-null    int64  \n",
      " 9   TAX     506 non-null    float64\n",
      " 10  PRATIO  506 non-null    float64\n",
      " 11  B_1000  506 non-null    float64\n",
      " 12  LSTAT   506 non-null    float64\n",
      " 13  MEDV    506 non-null    float64\n",
      "dtypes: float64(12), int64(2)\n",
      "memory usage: 55.5 KB\n"
     ]
    }
   ],
   "source": [
    "rawhousing.info()"
   ]
  },
  {
   "cell_type": "markdown",
   "id": "d44213d6",
   "metadata": {},
   "source": [
    "### Preprocessament"
   ]
  },
  {
   "cell_type": "code",
   "execution_count": 8,
   "id": "748a1432",
   "metadata": {},
   "outputs": [],
   "source": [
    "from sklearn import preprocessing"
   ]
  },
  {
   "cell_type": "markdown",
   "id": "fc4a2258",
   "metadata": {},
   "source": [
    "Primer hem de saber la seva distribució, fem el test de Kolmogorov-Smirnov"
   ]
  },
  {
   "cell_type": "code",
   "execution_count": 9,
   "id": "ec08924d",
   "metadata": {
    "scrolled": true
   },
   "outputs": [
    {
     "name": "stdout",
     "output_type": "stream",
     "text": [
      "Variable: CRIM\n",
      "Estadístic de prova: 0.5025212984276741\n",
      "Valor p: 9.101764614072096e-119\n",
      "Es rebutja la hipòtesi nul·la. Les dades no segueixen una distribució normal.\n",
      "\n",
      "Variable: ZN\n",
      "Estadístic de prova: 0.5\n",
      "Valor p: 1.6871111181943794e-117\n",
      "Es rebutja la hipòtesi nul·la. Les dades no segueixen una distribució normal.\n",
      "\n",
      "Variable: INDUS\n",
      "Estadístic de prova: 0.9382587138709638\n",
      "Valor p: 0.0\n",
      "Es rebutja la hipòtesi nul·la. Les dades no segueixen una distribució normal.\n",
      "\n",
      "Variable: CHAS\n",
      "Estadístic de prova: 0.5\n",
      "Valor p: 1.6871111181943794e-117\n",
      "Es rebutja la hipòtesi nul·la. Les dades no segueixen una distribució normal.\n",
      "\n",
      "Variable: NOX\n",
      "Estadístic de prova: 0.6498812922347244\n",
      "Valor p: 2.7133228490861893e-209\n",
      "Es rebutja la hipòtesi nul·la. Les dades no segueixen una distribució normal.\n",
      "\n",
      "Variable: RM\n",
      "Estadístic de prova: 0.9998152774582629\n",
      "Valor p: 0.0\n",
      "Es rebutja la hipòtesi nul·la. Les dades no segueixen una distribució normal.\n",
      "\n",
      "Variable: AGE\n",
      "Estadístic de prova: 0.998134186699616\n",
      "Valor p: 0.0\n",
      "Es rebutja la hipòtesi nul·la. Les dades no segueixen una distribució normal.\n",
      "\n",
      "Variable: DIS\n",
      "Estadístic de prova: 0.8921293224701715\n",
      "Valor p: 0.0\n",
      "Es rebutja la hipòtesi nul·la. Les dades no segueixen una distribució normal.\n",
      "\n",
      "Variable: RAD\n",
      "Estadístic de prova: 0.937724176352216\n",
      "Valor p: 0.0\n",
      "Es rebutja la hipòtesi nul·la. Les dades no segueixen una distribució normal.\n",
      "\n",
      "Variable: TAX\n",
      "Estadístic de prova: 1.0\n",
      "Valor p: 0.0\n",
      "Es rebutja la hipòtesi nul·la. Les dades no segueixen una distribució normal.\n",
      "\n",
      "Variable: PRATIO\n",
      "Estadístic de prova: 1.0\n",
      "Valor p: 0.0\n",
      "Es rebutja la hipòtesi nul·la. Les dades no segueixen una distribució normal.\n",
      "\n",
      "Variable: B_1000\n",
      "Estadístic de prova: 0.9938385171660238\n",
      "Valor p: 0.0\n",
      "Es rebutja la hipòtesi nul·la. Les dades no segueixen una distribució normal.\n",
      "\n",
      "Variable: LSTAT\n",
      "Estadístic de prova: 0.9900425026651394\n",
      "Valor p: 0.0\n",
      "Es rebutja la hipòtesi nul·la. Les dades no segueixen una distribució normal.\n",
      "\n",
      "Variable: MEDV\n",
      "Estadístic de prova: 0.9999997133484281\n",
      "Valor p: 0.0\n",
      "Es rebutja la hipòtesi nul·la. Les dades no segueixen una distribució normal.\n",
      "\n"
     ]
    }
   ],
   "source": [
    "from scipy.stats import kstest\n",
    "\n",
    "alpha = 0.05\n",
    "\n",
    "for variable in rawhousing:\n",
    "    stat, p_value = kstest(rawhousing[variable], 'norm')\n",
    "    \n",
    "    print(\"Variable:\", variable)\n",
    "    print(\"Estadístic de prova:\", stat)\n",
    "    print(\"Valor p:\", p_value)\n",
    "    \n",
    "    if p_value > alpha:\n",
    "        print(\"No es pot rebutjar la hipòtesi nul·la. Les dades semblen seguir una distribució normal.\")\n",
    "    else:\n",
    "        print(\"Es rebutja la hipòtesi nul·la. Les dades no segueixen una distribució normal.\")\n",
    "    \n",
    "    print()"
   ]
  },
  {
   "cell_type": "markdown",
   "id": "ecfe9c31",
   "metadata": {},
   "source": [
    "- Si són gaussianes -> Estandardització\n",
    "- Si la seva distribució no és normal -> Normalització\n",
    "- Si conté outliers -> RobustScaler o altres\n",
    "- Si són categòriques -> Dummys o enumeració\n",
    "- Altres: Polimorfisme, transformacions, cícliques,..."
   ]
  },
  {
   "cell_type": "code",
   "execution_count": 10,
   "id": "c39bd748",
   "metadata": {},
   "outputs": [
    {
     "data": {
      "image/png": "[encoded data removed]",
      "text/plain": [
       "<Figure size 640x480 with 1 Axes>"
      ]
     },
     "metadata": {},
     "output_type": "display_data"
    }
   ],
   "source": [
    "sns.boxplot(data=rawhousing, palette='flare')\n",
    "plt.title('Raw Housing')\n",
    "plt.xticks(rotation=90)\n",
    "plt.show()"
   ]
  },
  {
   "cell_type": "markdown",
   "id": "d11a998f",
   "metadata": {},
   "source": [
    "##### RobustScaler\n",
    "Mètode de preprocessament de dades que s'utilitza per escalat de variables en l'anàlisi de dades, especialment quan hi ha presència de valors atípics o distribucions no normals."
   ]
  },
  {
   "cell_type": "code",
   "execution_count": 11,
   "id": "096ca8de",
   "metadata": {},
   "outputs": [],
   "source": [
    "from sklearn.preprocessing import RobustScaler\n",
    "rawhousing[['CRIM', 'ZN', 'LSTAT', 'MEDV', 'AGE']] = RobustScaler().fit_transform(rawhousing[['CRIM', 'ZN', 'LSTAT', 'MEDV', 'AGE']])"
   ]
  },
  {
   "cell_type": "markdown",
   "id": "8cd7b658",
   "metadata": {},
   "source": [
    "##### StandardScaler\n",
    "Mètode de preprocessament de dades que s'utilitza per escalat de variables en l'anàlisi de dades, que transforma les dades per tenir una mitjana de zero i una desviació estàndard de 1 això és útil per a algorismes que assumeixen una distribució normal de les dades."
   ]
  },
  {
   "cell_type": "code",
   "execution_count": 12,
   "id": "c752debe",
   "metadata": {},
   "outputs": [],
   "source": [
    "from sklearn.preprocessing import StandardScaler\n",
    "rawhousing[['TAX','INDUS']] = StandardScaler().fit(rawhousing[['TAX','INDUS']]).transform(rawhousing[['TAX','INDUS']])"
   ]
  },
  {
   "cell_type": "markdown",
   "id": "64b01730",
   "metadata": {},
   "source": [
    "##### MinMaxScaler\n",
    "Mètode de preprocessament de dades que s'utilitza per escalat de variables en l'anàlisi de dades, que transforma les dades al rang de [0, 1]. Aquest mètode és útil per a algorismes que requereixen que les dades estiguin en un rang específic o per a visualitzar les dades en una escala comuna."
   ]
  },
  {
   "cell_type": "code",
   "execution_count": 13,
   "id": "8da04740",
   "metadata": {},
   "outputs": [],
   "source": [
    "from sklearn.preprocessing import MinMaxScaler\n",
    "rawhousing[['DIS', 'RAD','B_1000','CRIM','ZN','PRATIO','RM','NOX']] = MinMaxScaler().fit_transform(rawhousing[['DIS', 'RAD','B_1000','CRIM','ZN','PRATIO','RM','NOX']])"
   ]
  },
  {
   "cell_type": "markdown",
   "id": "7ef44fbc",
   "metadata": {},
   "source": [
    "    Ara revisem la distribució"
   ]
  },
  {
   "cell_type": "code",
   "execution_count": 14,
   "id": "1f1c3c92",
   "metadata": {},
   "outputs": [
    {
     "data": {
      "image/png": "[encoded data removed]",
      "text/plain": [
       "<Figure size 640x480 with 1 Axes>"
      ]
     },
     "metadata": {},
     "output_type": "display_data"
    }
   ],
   "source": [
    "sns.boxplot(data=rawhousing, palette='flare')\n",
    "plt.title('Raw Housing')\n",
    "plt.xticks(rotation=90)\n",
    "plt.show()"
   ]
  },
  {
   "cell_type": "code",
   "execution_count": 15,
   "id": "32ea6853",
   "metadata": {},
   "outputs": [],
   "source": [
    "housing_def = pd.DataFrame(rawhousing) "
   ]
  },
  {
   "cell_type": "markdown",
   "id": "96e3e67a",
   "metadata": {},
   "source": [
    "### Crear conjunts"
   ]
  },
  {
   "cell_type": "code",
   "execution_count": 16,
   "id": "4b7ee0b5",
   "metadata": {},
   "outputs": [],
   "source": [
    "from sklearn.model_selection import train_test_split\n",
    "\n",
    "# Assignar VD/VI\n",
    "X = housing_def[['CRIM', 'ZN', 'INDUS', 'CHAS', 'RM', 'AGE', 'DIS', 'RAD', 'TAX', 'PRATIO', 'B_1000', 'LSTAT']]\n",
    "y = housing_def['MEDV']\n",
    "\n",
    "#Afegir els noms de les columnes\n",
    "X.columns = ['CRIM', 'ZN', 'INDUS', 'CHAS', 'RM', 'AGE', 'DIS', 'RAD', 'TAX', 'PRATIO', 'B_1000', 'LSTAT']\n",
    "y.columns = 'MEDV'\n",
    "\n",
    "#Fer la divisió dels conjunts\n",
    "x_train, x_test, y_train, y_test = train_test_split(X, y, test_size=0.2, random_state=42)"
   ]
  },
  {
   "cell_type": "code",
   "execution_count": 17,
   "id": "002acd9c",
   "metadata": {},
   "outputs": [],
   "source": [
    "import numpy as np\n",
    "from sklearn.linear_model import LinearRegression"
   ]
  },
  {
   "cell_type": "code",
   "execution_count": 18,
   "id": "e2babc83",
   "metadata": {},
   "outputs": [
    {
     "ename": "TypeError",
     "evalue": "fit() takes from 3 to 4 positional arguments but 5 were given",
     "output_type": "error",
     "traceback": [
      "\u001b[1;31m---------------------------------------------------------------------------\u001b[0m",
      "\u001b[1;31mTypeError\u001b[0m                                 Traceback (most recent call last)",
      "Cell \u001b[1;32mIn[18], line 2\u001b[0m\n\u001b[0;32m      1\u001b[0m model \u001b[38;5;241m=\u001b[39m LinearRegression()\n\u001b[1;32m----> 2\u001b[0m \u001b[43mmodel\u001b[49m\u001b[38;5;241;43m.\u001b[39;49m\u001b[43mfit\u001b[49m\u001b[43m(\u001b[49m\u001b[43mx_train\u001b[49m\u001b[43m,\u001b[49m\u001b[43m \u001b[49m\u001b[43mx_test\u001b[49m\u001b[43m,\u001b[49m\u001b[43m \u001b[49m\u001b[43my_train\u001b[49m\u001b[43m,\u001b[49m\u001b[43m \u001b[49m\u001b[43my_test\u001b[49m\u001b[43m)\u001b[49m\n",
      "\u001b[1;31mTypeError\u001b[0m: fit() takes from 3 to 4 positional arguments but 5 were given"
     ]
    }
   ],
   "source": [
    "model = LinearRegression()\n",
    "model.fit(x_train, x_test, y_train, y_test)"
   ]
  },
  {
   "cell_type": "markdown",
   "id": "01e5530a",
   "metadata": {},
   "source": [
    "### Test de normalitat de Kolmogorov-Smirnov"
   ]
  },
  {
   "cell_type": "code",
   "execution_count": null,
   "id": "67bf0c0f",
   "metadata": {},
   "outputs": [],
   "source": [
    "from scipy.stats import ks_2samp\n",
    "\n",
    "result_x = ks_2samp(x_train.values.flatten(), x_test.values.flatten())\n",
    "result_y = ks_2samp(y_train.values.flatten(), y_test.values.flatten())\n",
    "\n",
    "print(f\"Test de Kolmogorov-Smirnov:\\n\"\n",
    "      f\"x_train vs. x_test: p-value={result_x.pvalue:.5f}, statistic={result_x.statistic:.5f}\\n\"\n",
    "      f\"y_train vs. y_test: p-value={result_y.pvalue:.5f}, statistic={result_y.statistic:.5f}\")"
   ]
  },
  {
   "cell_type": "markdown",
   "id": "f8979453",
   "metadata": {},
   "source": [
    "Per a la comparació entre x_train i x_test:\n",
    "El valor p és 0.29648, la qual cosa indica que no hi ha prou evidència per rebutjar la hipòtesi nul·la que les distribucions de x_train i x_test són diferents.\n",
    "L'estadística de prova és 0,03103, que representa la màxima diferència absoluta entre les funcions de distribució acumulativa de x_train i x_test.\n",
    "\n",
    "Per a la comparació entre y_train i y_test:\n",
    "El valor p és 0.25243, la qual cosa indica que no hi ha prou evidència per rebutjar la hipòtesi nul·la que les distribucions de y_train i y_test són diferents.\n",
    "L'estadística de prova és 0,11032, que representa la màxima diferència absoluta entre les funcions de distribució acumulativa de y_train i y_test.\n",
    "\n",
    "En resum, els resultats indiquen que no hi ha diferències significatives a les distribucions dels conjunts x_train i x_test, ni als conjunts y_train i y_test."
   ]
  },
  {
   "cell_type": "markdown",
   "id": "68b08304",
   "metadata": {},
   "source": [
    "### Coeficient de skewness (biaix)"
   ]
  },
  {
   "cell_type": "code",
   "execution_count": null,
   "id": "01532118",
   "metadata": {},
   "outputs": [],
   "source": [
    "from scipy.stats import skew\n",
    "\n",
    "print(f\"Coeficients de skewness:\\n\"\n",
    "      f\"x_train: {skew(x_train.values.flatten()):.5f}\\n\"\n",
    "      f\"y_train: {skew(y_train.values.flatten()):.5f}\\n\"\n",
    "      f\"x_test: {skew(x_test.values.flatten()):.5f}\\n\"\n",
    "      f\"y_test: {skew(y_test.values.flatten()):.5f}\")"
   ]
  },
  {
   "cell_type": "markdown",
   "id": "7871675f",
   "metadata": {},
   "source": [
    "La interpretació dels coeficients de l'skewness indica l'asimetria de les distribucions dels conjunts de dades.\n",
    "\n",
    "Per a x_train:\n",
    "- El coeficient de skewness és -0,26143. Una asimetria negativa indica que la distribució té una cua més llarga a la banda esquerra i una concentració de valors més alta al costat dret.\n",
    "- En aquest cas, la distribució de x_train té una lleugera asimetria negativa.\n",
    "\n",
    "Per a y_train:\n",
    "- El coeficient de skewness és 1.04509. Una asimetria positiva indica que la distribució té una cua més llarga a la banda dreta i una concentració de valors més alta a la banda esquerra.\n",
    "- En aquest cas, la distribució de y_train té una asimetria positiva significativa.\n",
    "\n",
    "Per a x_test:\n",
    "- El coeficient de skewness és -0,37127. Igual que en el cas de x_train, la distribució de x_test té una lleugera asimetria negativa.\n",
    "\n",
    "Per a i_test:\n",
    "- El coeficient de skewness és 1.36636. Com en el cas de y_train, la distribució de y_test té una asimetria positiva significativa.\n",
    "\n",
    "Aquests resultats indiquen que tant x_train com x_test tenen una asimetria negativa, mentre que y_train i y_test presenten una asimetria positiva."
   ]
  },
  {
   "cell_type": "markdown",
   "id": "278f5f0f",
   "metadata": {},
   "source": [
    "### Distribució"
   ]
  },
  {
   "cell_type": "code",
   "execution_count": null,
   "id": "6a93f32f",
   "metadata": {},
   "outputs": [],
   "source": [
    "y_train = y_train.to_numpy()"
   ]
  },
  {
   "cell_type": "code",
   "execution_count": null,
   "id": "cf42424b",
   "metadata": {},
   "outputs": [],
   "source": [
    "fig, axes = plt.subplots(2, 2, figsize=(12, 12))\n",
    "\n",
    "# Boxplot x_train\n",
    "sns.boxplot(data=x_train, ax=axes[0, 0], palette='flare')\n",
    "axes[0, 0].set_title('x_train')\n",
    "axes[0, 0].set_xticklabels(axes[0, 0].get_xticklabels(), rotation=90)\n",
    "\n",
    "#Boxplot y_train\n",
    "sns.boxplot(data=y_train, ax=axes[0, 1], palette='flare')\n",
    "axes[0, 1].set_title('y_train')\n",
    "axes[0, 1].set_xticklabels(axes[0, 1].get_xticklabels(), rotation=90)\n",
    "\n",
    "# Boxplot x_test\n",
    "sns.boxplot(data=x_test, ax=axes[1, 0], palette='flare')\n",
    "axes[1, 0].set_title('x_test')\n",
    "axes[1, 0].set_xticklabels(axes[1, 0].get_xticklabels(), rotation=90)\n",
    "\n",
    "# Boxplot y_test\n",
    "sns.boxplot(data=y_test, ax=axes[1, 1], palette='flare')\n",
    "axes[1, 1].set_title('y_test')\n",
    "axes[1, 1].set_xticklabels(axes[1, 1].get_xticklabels(), rotation=90)\n",
    "\n",
    "plt.tight_layout()\n",
    "plt.show()\n"
   ]
  },
  {
   "cell_type": "markdown",
   "id": "2401a9ba",
   "metadata": {},
   "source": [
    "A més veiem que la distribució es força similar"
   ]
  },
  {
   "cell_type": "markdown",
   "id": "4e22beae",
   "metadata": {},
   "source": [
    "### Correlació"
   ]
  },
  {
   "cell_type": "code",
   "execution_count": null,
   "id": "bf374f78",
   "metadata": {},
   "outputs": [],
   "source": [
    "import matplotlib.pyplot as plt\n",
    "from sklearn.linear_model import LinearRegression\n",
    "\n",
    "# Regressió lineal\n",
    "RL = LinearRegression().fit(x_train, y_train)\n",
    "\n",
    "fig, axes = plt.subplots(1, 2, figsize=(12, 6))\n",
    "\n",
    "# Gràfic per prova\n",
    "axes[0].scatter(RL.predict(x_test), y_test)\n",
    "axes[0].set_xlabel(\"Predicció\")\n",
    "axes[0].set_ylabel(\"Valors reals\")\n",
    "axes[0].set_title(\"Correlació entre prediccions i valors reals (x_test)\")\n",
    "axes[0].plot(RL.predict(x_test), np.polyval(np.polyfit(RL.predict(x_test), y_test, deg=1), RL.predict(x_test)), color='#93446E')\n",
    "\n",
    "# Gràfic per entrenament\n",
    "axes[1].scatter(RL.predict(x_train), y_train)\n",
    "axes[1].set_xlabel(\"Prediccions\")\n",
    "axes[1].set_ylabel(\"Valors reals\")\n",
    "axes[1].set_title(\"Correlació entre prediccions i valors reals (x_train)\")\n",
    "axes[1].plot(RL.predict(x_train), np.polyval(np.polyfit(RL.predict(x_train), y_train, deg=1), RL.predict(x_train)), color='#93446E')\n",
    "\n",
    "plt.tight_layout()\n",
    "plt.show()\n",
    "\n",
    "print(f\"Coeficient de determinació (R²) pel conjunt de prova: {RL.score(x_test, y_test)}\")\n",
    "print(f\"Coeficient de determinació (R²) pel conjunt de entrenament: {RL.score(x_train, y_train)}\")"
   ]
  },
  {
   "cell_type": "markdown",
   "id": "14d955fa",
   "metadata": {},
   "source": [
    "- Coeficient de determinació (R²) pel conjunt de prova: Aproximadament el 65.43% de la variabilitat a la variable dependent pot ser explicada pel model de regressió lineal en el conjunt de prova. Com més a prop estigui el valor d'1, millor és l'ajustament del model a les dades\n",
    "\n",
    "- Coeficient de determinació (R²) pel conjunt d'entrenament:Aproximadament el 74,04% de la variabilitat a la variable dependent pot ser explicada pel model de regressió lineal al conjunt d'entrenament\n",
    "\n",
    "A més podem veure amb claredat als gràfics que les dades s'agrupen a llocs semblants"
   ]
  },
  {
   "cell_type": "markdown",
   "id": "158f59d8",
   "metadata": {},
   "source": [
    "## Exercici 2\n",
    "Aplica algun procés de transformació (estandarditzar les dades numèriques, crear columnes dummies, polinomis...)."
   ]
  },
  {
   "cell_type": "markdown",
   "id": "b8187a2e",
   "metadata": {},
   "source": [
    "### Estandaritzar\n",
    "L'estandardització es refereix a la transformació de les dades de manera que tinguin una mitjana de zero i una desviació estàndard d'un. Això s'aconsegueix restant la mitjana de cada valor i dividint per la desviació estàndard. El resultat és una distribució de dades centrada en zero i amb una dispersió similar entre les característiques."
   ]
  },
  {
   "cell_type": "code",
   "execution_count": null,
   "id": "370a4ef4",
   "metadata": {},
   "outputs": [],
   "source": [
    "#Aquest procès ja s'ha fet a l'exercici 1, fem una gràfic per a poder veure la diferència\n",
    "\n",
    "fig, axes = plt.subplots(1, 2, figsize=(12, 6))\n",
    "\n",
    "# Boxplot del dataset original\n",
    "sns.boxplot(data=housing_orig, ax=axes[0], palette='flare')\n",
    "axes[0].set_title('Dades original')\n",
    "axes[0].set_xticklabels(axes[0].get_xticklabels(), rotation=90)\n",
    "\n",
    "# Boxplot del dataset modificat\n",
    "sns.boxplot(data=housing_def, ax=axes[1], palette='flare')\n",
    "axes[1].set_title('Dades normalitzades')\n",
    "axes[1].set_xticklabels(axes[1].get_xticklabels(), rotation=90)\n",
    "\n",
    "plt.tight_layout()\n",
    "plt.show()\n"
   ]
  },
  {
   "cell_type": "markdown",
   "id": "fe0f147f",
   "metadata": {},
   "source": [
    "### Creació de variable polinòmica"
   ]
  },
  {
   "cell_type": "markdown",
   "id": "0074df0b",
   "metadata": {},
   "source": [
    "En aquest procés, es creen noves columnes o variables en el conjunt de dades original. Aquestes noves variables es generen mitjançant l' elevació de les característiques existents a diferents potències i la combinació d' elles. "
   ]
  },
  {
   "cell_type": "code",
   "execution_count": null,
   "id": "85c8e580",
   "metadata": {},
   "outputs": [],
   "source": [
    "# Revisem les abreviatures\n",
    "for key, value in info_columnes.items():\n",
    "    print(f\"{key} : {value}\")"
   ]
  },
  {
   "cell_type": "markdown",
   "id": "36413dcd",
   "metadata": {},
   "source": [
    "#### RM_squared = Aquesta nova variable representa el quadrat de la mitjana del nombre d'habitacions per habitatge (RM)."
   ]
  },
  {
   "cell_type": "code",
   "execution_count": null,
   "id": "e8a9e1a9",
   "metadata": {},
   "outputs": [],
   "source": [
    "# Revisem RM\n",
    "print(info_columnes['RM'])"
   ]
  },
  {
   "cell_type": "code",
   "execution_count": null,
   "id": "da2ba22e",
   "metadata": {},
   "outputs": [],
   "source": [
    "# Crear RM_squared en x_train\n",
    "x_train['RM_squared'] = x_train['RM'] ** 2\n",
    "# Crear RM_squared en x_test\n",
    "x_test['RM_squared'] = x_test['RM'] ** 2"
   ]
  },
  {
   "cell_type": "code",
   "execution_count": null,
   "id": "07d96b88",
   "metadata": {},
   "outputs": [],
   "source": [
    "#Afegim al diccionari\n",
    "info_columnes['RM_squared'] = \"Quadrat de la mitjana del nombre d'habitacions per habitatge (RM)\""
   ]
  },
  {
   "cell_type": "markdown",
   "id": "a30442a1",
   "metadata": {},
   "source": [
    "#### TAX_RM: Aquesta nova variable és el producte entre la taxa d'impostos a la propietat (TAX) i la mitjana del nombre d'habitacions per habitatge (RM). "
   ]
  },
  {
   "cell_type": "code",
   "execution_count": null,
   "id": "7a4f427a",
   "metadata": {},
   "outputs": [],
   "source": [
    "# Revisem TAX\n",
    "print(info_columnes['TAX'])\n",
    "# Revisem RM\n",
    "print(info_columnes['RM'])"
   ]
  },
  {
   "cell_type": "code",
   "execution_count": null,
   "id": "d50e5f97",
   "metadata": {},
   "outputs": [],
   "source": [
    "# Creem TAX_RM\n",
    "x_train['TAX_RM'] = x_train['TAX'] * x_train['RM']\n",
    "x_test['TAX_RM'] = x_test['TAX'] * x_test['RM']"
   ]
  },
  {
   "cell_type": "code",
   "execution_count": null,
   "id": "c65b39d1",
   "metadata": {},
   "outputs": [],
   "source": [
    "#Afegim al diccionari\n",
    "info_columnes['TAX_RM'] = \"Producte entre la taxa d'impostos a la propietat (TAX) i la mitjana del nombre d'habitacions per habitatge\""
   ]
  },
  {
   "cell_type": "markdown",
   "id": "20b91c3b",
   "metadata": {},
   "source": [
    "### Crear una variable dummy\n",
    "Crear una variable dummy és útil quan es té una variable categòrica que no es pot utilitzar directament en un model d' aprenentatge automàtic, ja que els algorismes generalment treballen amb dades numèriques. Una variable dummy s'utilitza per representar la informació categòrica en forma de variables binàries (0 o 1)"
   ]
  },
  {
   "cell_type": "code",
   "execution_count": null,
   "id": "4dea157b",
   "metadata": {},
   "outputs": [],
   "source": [
    "# Crear variable dummy a conjunt d'entrenament\n",
    "x_train = pd.concat([x_train, pd.get_dummies(x_train['CHAS'], prefix='CHAS')], axis=1)\n",
    "x_train.drop('CHAS', axis=1, inplace=True)\n",
    "# Crear variable dummy a conjunt de prova\n",
    "x_test = pd.concat([x_test, pd.get_dummies(x_test['CHAS'], prefix='CHAS')], axis=1)\n",
    "x_test.drop('CHAS', axis=1, inplace=True)"
   ]
  },
  {
   "cell_type": "code",
   "execution_count": null,
   "id": "209f3843",
   "metadata": {},
   "outputs": [],
   "source": [
    "x_test"
   ]
  },
  {
   "cell_type": "markdown",
   "id": "1491ca6e",
   "metadata": {},
   "source": [
    "## Exercici 3\n",
    "Resumeix les noves columnes generades de manera estadística i gràfica"
   ]
  },
  {
   "cell_type": "markdown",
   "id": "28d8e874",
   "metadata": {},
   "source": [
    "#### Conjunt d'entrenament"
   ]
  },
  {
   "cell_type": "code",
   "execution_count": null,
   "id": "39cc3604",
   "metadata": {},
   "outputs": [],
   "source": [
    "display(x_train[['RM_squared','TAX_RM']].describe())"
   ]
  },
  {
   "cell_type": "code",
   "execution_count": null,
   "id": "64196fa8",
   "metadata": {},
   "outputs": [],
   "source": [
    "display(pd.DataFrame({'CHAS_0': x_train['CHAS_0'].value_counts(), 'CHAS_1': x_train['CHAS_1'].value_counts()}))"
   ]
  },
  {
   "cell_type": "markdown",
   "id": "3b1343d4",
   "metadata": {},
   "source": [
    "#### Conjunt de prova"
   ]
  },
  {
   "cell_type": "code",
   "execution_count": null,
   "id": "3f1fe237",
   "metadata": {},
   "outputs": [],
   "source": [
    "display(x_test[['RM_squared','TAX_RM']].describe())"
   ]
  },
  {
   "cell_type": "code",
   "execution_count": null,
   "id": "b110c10a",
   "metadata": {},
   "outputs": [],
   "source": [
    "display(pd.DataFrame({'CHAS_0': x_test['CHAS_0'].value_counts(), 'CHAS_1': x_test['CHAS_1'].value_counts()}))"
   ]
  },
  {
   "cell_type": "markdown",
   "id": "24cd6655",
   "metadata": {},
   "source": [
    "#### Amb les variables que van ser creades, com per les dos polinomiques van fer servir RM no tindria sentit fer un creuament, \n",
    "\n",
    "A continuació creuem aquestes variables polinomiques amb altres del dataset"
   ]
  },
  {
   "cell_type": "markdown",
   "id": "0bd499e2",
   "metadata": {},
   "source": [
    "###### RM_squared x MEDV"
   ]
  },
  {
   "cell_type": "code",
   "execution_count": null,
   "id": "5f6e1dc5",
   "metadata": {},
   "outputs": [],
   "source": [
    "# Revisem RM_squared\n",
    "print(info_columnes['RM_squared'])\n",
    "# Revisem MEDV\n",
    "print(info_columnes['MEDV'])"
   ]
  },
  {
   "cell_type": "code",
   "execution_count": null,
   "id": "9f86bd07",
   "metadata": {},
   "outputs": [],
   "source": [
    "# Jointgrid amb histograma marginal RM_squared x MEDV\n",
    "g = sns.jointplot(data=x_train, x=\"RM_squared\", y=y_train, kind=\"kde\", cmap=\"flare\", fill=True)\n",
    "g.plot_joint(sns.kdeplot, cmap=\"flare\", fill=True)\n",
    "g.plot_marginals(sns.histplot, color='#93446E')\n",
    "\n",
    "# Configurar etiquetes i títol\n",
    "g.set_axis_labels(\"RM_squared\", \"MEDV\")\n",
    "g.fig.suptitle(\"Distribución conjunta de RM_squared y MEDV en el conjunto de prueba\", y=1.02)\n",
    "\n",
    "plt.show()"
   ]
  },
  {
   "cell_type": "markdown",
   "id": "dbd8ddb5",
   "metadata": {},
   "source": [
    "Els jointplot no són més que un gràfic de disperssió amb histogrames, llavors per interpretar l'interior hem de pensar que on es més fosc hi ha més concentració, en aquest cas parlarien de coincidències, després tenim la distribució marginal de cada variable"
   ]
  },
  {
   "cell_type": "markdown",
   "id": "e73b1282",
   "metadata": {},
   "source": [
    "###### TAX_RM x MEDV"
   ]
  },
  {
   "cell_type": "code",
   "execution_count": null,
   "id": "b74d2bbf",
   "metadata": {},
   "outputs": [],
   "source": [
    "# Revisem RM_squared\n",
    "print(info_columnes['TAX_RM'])\n",
    "# Revisem DIS\n",
    "print(info_columnes['MEDV'])"
   ]
  },
  {
   "cell_type": "code",
   "execution_count": null,
   "id": "50d5a231",
   "metadata": {},
   "outputs": [],
   "source": [
    "# Jointgrid amb histograma marginal RM_squared x MEDV\n",
    "g = sns.jointplot(data=x_train, x=\"TAX_RM\", y=y_train, kind=\"kde\", cmap=\"flare\", fill=True)\n",
    "g.plot_joint(sns.kdeplot, cmap=\"flare\", fill=True)\n",
    "g.plot_marginals(sns.histplot, color='#93446E')\n",
    "\n",
    "# Configurar etiquetes i títol\n",
    "g.set_axis_labels(\"RM_squared\", \"MEDV\")\n",
    "g.fig.suptitle(\"Distribució conjunta de TAX_RM i MEDV en el conjunt de prova\", y=1.02)\n",
    "\n",
    "plt.show()"
   ]
  },
  {
   "cell_type": "markdown",
   "id": "7623cb0c",
   "metadata": {},
   "source": [
    "Els jointplot no són més que un gràfic de disperssió amb histogrames, llavors per interpretar l'interior hem de pensar que on es més fosc hi ha més concentració, en aquest cas parlarien de coincidències, després tenim la distribució marginal de cada variable"
   ]
  },
  {
   "cell_type": "markdown",
   "id": "6b881039",
   "metadata": {},
   "source": [
    "#### Visualització amb variable dummy"
   ]
  },
  {
   "cell_type": "code",
   "execution_count": null,
   "id": "7c09ba57",
   "metadata": {},
   "outputs": [],
   "source": [
    "# Revisem CHAS\n",
    "print(info_columnes['CHAS']) # CHAS_1 correspondrà en 1 és el mateix que un i viceversa"
   ]
  },
  {
   "cell_type": "code",
   "execution_count": null,
   "id": "d6d0a1f6",
   "metadata": {},
   "outputs": [],
   "source": [
    "# Fem el gràfic\n",
    "plt.bar(['Si', 'No'], [sum(1 for value in x_test['CHAS_1'] if value == True), sum(1 for value in x_test['CHAS_0'] if value == True)])\n",
    "plt.xlabel('Proximitat al riu Charles')\n",
    "plt.ylabel('Comptador')\n",
    "plt.title('Distribució d observacions segons la proximitat al riu Charles')\n",
    "plt.show()"
   ]
  },
  {
   "cell_type": "markdown",
   "id": "c798afb8",
   "metadata": {},
   "source": [
    "    Podem veure que hi han més que no son a propr del riu Charles, aquest gràfic realment es podria haver fet no més amb una variable perquè si son True a una vol dir que son False a l'altre"
   ]
  }
 ],
 "metadata": {
  "kernelspec": {
   "display_name": "Python 3 (ipykernel)",
   "language": "python",
   "name": "python3"
  },
  "language_info": {
   "codemirror_mode": {
    "name": "ipython",
    "version": 3
   },
   "file_extension": ".py",
   "mimetype": "text/x-python",
   "name": "python",
   "nbconvert_exporter": "python",
   "pygments_lexer": "ipython3",
   "version": "3.9.13"
  }
 },
 "nbformat": 4,
 "nbformat_minor": 5
}
