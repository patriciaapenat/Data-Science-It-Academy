{
 "cells": [
  {
   "cell_type": "markdown",
   "id": "38d8e200",
   "metadata": {},
   "source": [
    "# Tasca M3 T01"
   ]
  },
  {
   "cell_type": "markdown",
   "id": "e4cf20b0",
   "metadata": {},
   "source": [
    "## Exercici 1"
   ]
  },
  {
   "cell_type": "markdown",
   "id": "488d2f2e",
   "metadata": {},
   "source": [
    "Crea una funció que donat un Array d’una dimensió, et faci un resum estadístic bàsic de les dades. Si detecta que l’array té més d’una dimensió, ha de mostrar un missatge d’error."
   ]
  },
  {
   "cell_type": "code",
   "execution_count": 4,
   "id": "0966a199",
   "metadata": {},
   "outputs": [
    {
     "name": "stdout",
     "output_type": "stream",
     "text": [
      "[ 58  34   2  34  77  15  24  72  25  48  77  45  90  60  78  81  86  16\n",
      "  71  89  39  95  73  38  39  74  71  91  56  28  18  19  96   6  67  39\n",
      "  83  98   2  52  65  28   2  19  50  23  62  54  18  97  85  90  85   1\n",
      "   0  66  68  64  11  53  48  57  33  86  31  28  47  49  32  94  25  42\n",
      "  51  87  30  54  28  83  37  22  64  37  77  32  88  29  80  30  58 100\n",
      "  53  80  86  50  88  96  63  56  32  71]\n"
     ]
    }
   ],
   "source": [
    "import numpy as np\n",
    "\n",
    "Array= np.random.randint(0, 101, size=(100))\n",
    "print(Array)"
   ]
  },
  {
   "cell_type": "code",
   "execution_count": 5,
   "id": "a8496707",
   "metadata": {},
   "outputs": [],
   "source": [
    "def resum_stdtc(arr):\n",
    "    if arr.ndim != 1:\n",
    "        print(\"Error: l'array té més d'una dimensió\")\n",
    "    else:\n",
    "        print(\"Resum estadístic:\")\n",
    "        print(\"Mínim: \", np.min(arr))\n",
    "        print(\"Màxim: \", np.max(arr))\n",
    "        print(\"Mitjana: \", np.mean(arr))\n",
    "        print(\"Mediana: \", np.median(arr))\n",
    "        print(\"Desviació estàndard: \", np.std(arr))\n",
    "        print(\"Quartil 1: \", np.percentile(arr, 25))\n",
    "        print(\"Quartil 3: \", np.percentile(arr, 75))"
   ]
  },
  {
   "cell_type": "code",
   "execution_count": 6,
   "id": "db86aa9a",
   "metadata": {},
   "outputs": [
    {
     "name": "stdout",
     "output_type": "stream",
     "text": [
      "Resum estadístic:\n",
      "Mínim:  0\n",
      "Màxim:  100\n",
      "Mitjana:  53.41\n",
      "Mediana:  53.5\n",
      "Desviació estàndard:  27.45690987711472\n",
      "Quartil 1:  30.75\n",
      "Quartil 3:  77.25\n"
     ]
    }
   ],
   "source": [
    "resum_stdtc(Array)"
   ]
  },
  {
   "cell_type": "markdown",
   "id": "0df3aa0d",
   "metadata": {},
   "source": [
    "## Exercici 2"
   ]
  },
  {
   "cell_type": "markdown",
   "id": "7835f57d",
   "metadata": {},
   "source": [
    "Crea una funció que et generi un quadrat NxN de nombres aleatoris entre el 0 i el 100."
   ]
  },
  {
   "cell_type": "code",
   "execution_count": 7,
   "id": "70ac3cb4",
   "metadata": {},
   "outputs": [
    {
     "name": "stdout",
     "output_type": "stream",
     "text": [
      "[[ 84  40  87  39  50]\n",
      " [ 22  32  20  91  98]\n",
      " [  8  57  46  89  41]\n",
      " [ 29  71  10 100   1]\n",
      " [ 21  49  90 100  78]]\n"
     ]
    }
   ],
   "source": [
    "matriu = np.random.randint(0, 101, size=(5, 5))\n",
    "print(matriu)"
   ]
  },
  {
   "cell_type": "markdown",
   "id": "c45222bc",
   "metadata": {},
   "source": [
    "## Exercici 3"
   ]
  },
  {
   "cell_type": "markdown",
   "id": "6c5e4efb",
   "metadata": {},
   "source": [
    "Crea una funció que donada una taula de dues dimensions (NxM), et calculi els totals per fila i els totals per columna."
   ]
  },
  {
   "cell_type": "code",
   "execution_count": 8,
   "id": "6ad7b9b7",
   "metadata": {},
   "outputs": [],
   "source": [
    "# Versió que fa un marc a la matriu\n",
    "\n",
    "def filesicolumnes(matriz):\n",
    "    print(\"Matriu original:\")\n",
    "    print(matriz)\n",
    "    \n",
    "    matriu_mod_C = np.concatenate([matriz, np.sum(matriz, axis=1, keepdims=True)], axis=1)\n",
    "\n",
    "    print(\"Matriu amb sumes por fila:\")\n",
    "    print(matriu_mod_C)\n",
    "\n",
    "    fila_sumes = np.zeros((1, matriu_mod_C.shape[1]), dtype=np.int64)\n",
    "    fila_sumes[0, :-1] = np.sum(matriz, axis=0)\n",
    "    fila_sumes[0, -1] = np.sum(matriz)\n",
    "    matriu_mod_F = np.concatenate([matriu_mod_C, fila_sumes], axis=0)\n",
    "\n",
    "    print(\"Matriu final amb sumes per fila y columna:\")\n",
    "    print(matriu_mod_F)"
   ]
  },
  {
   "cell_type": "code",
   "execution_count": 9,
   "id": "efebeb3c",
   "metadata": {},
   "outputs": [],
   "source": [
    "# Versió que no més fa la suma\n",
    "\n",
    "def sumar(matriz):\n",
    "    trnspsc = np.transpose(matriz)\n",
    "    sum_filas = np.sum(matriz, axis=1)\n",
    "    sum_columnas = np.sum(trnspsc, axis=0)\n",
    "    matriz_suma = np.hstack\n",
    "    print(\"Suma de filas:\")\n",
    "    for fila in sum_filas.reshape(-1, 1):\n",
    "        print(fila[0])\n",
    "    print(\"Suma de columnas:\\n\", sum_columnas)"
   ]
  },
  {
   "cell_type": "code",
   "execution_count": 10,
   "id": "84afec89",
   "metadata": {},
   "outputs": [
    {
     "name": "stdout",
     "output_type": "stream",
     "text": [
      "Suma de filas:\n",
      "300\n",
      "263\n",
      "241\n",
      "211\n",
      "338\n",
      "Suma de columnas:\n",
      " [300 263 241 211 338]\n"
     ]
    }
   ],
   "source": [
    "sumar(matriu)"
   ]
  },
  {
   "cell_type": "code",
   "execution_count": 11,
   "id": "fd21cde2",
   "metadata": {},
   "outputs": [
    {
     "name": "stdout",
     "output_type": "stream",
     "text": [
      "Matriu original:\n",
      "[[ 84  40  87  39  50]\n",
      " [ 22  32  20  91  98]\n",
      " [  8  57  46  89  41]\n",
      " [ 29  71  10 100   1]\n",
      " [ 21  49  90 100  78]]\n",
      "Matriu amb sumes por fila:\n",
      "[[ 84  40  87  39  50 300]\n",
      " [ 22  32  20  91  98 263]\n",
      " [  8  57  46  89  41 241]\n",
      " [ 29  71  10 100   1 211]\n",
      " [ 21  49  90 100  78 338]]\n",
      "Matriu final amb sumes per fila y columna:\n",
      "[[  84   40   87   39   50  300]\n",
      " [  22   32   20   91   98  263]\n",
      " [   8   57   46   89   41  241]\n",
      " [  29   71   10  100    1  211]\n",
      " [  21   49   90  100   78  338]\n",
      " [ 164  249  253  419  268 1353]]\n"
     ]
    }
   ],
   "source": [
    "filesicolumnes(matriu)"
   ]
  },
  {
   "cell_type": "markdown",
   "id": "0f076403",
   "metadata": {},
   "source": [
    "## Exercici 4"
   ]
  },
  {
   "cell_type": "markdown",
   "id": "157f0c4a",
   "metadata": {},
   "source": [
    "Implementa manualment una funció que calculi el coeficient de correlació. Informa-te'n sobre els seus usos i interpretació."
   ]
  },
  {
   "cell_type": "code",
   "execution_count": 12,
   "id": "4e775fae",
   "metadata": {},
   "outputs": [],
   "source": [
    "import numpy as np\n",
    "import scipy.stats"
   ]
  },
  {
   "cell_type": "code",
   "execution_count": 16,
   "id": "c5c879e6",
   "metadata": {},
   "outputs": [
    {
     "name": "stdout",
     "output_type": "stream",
     "text": [
      "[65 84 74 55 52 52 28 81 25 13] [88 35 70 58 38 50 36 39 22 96]\n"
     ]
    }
   ],
   "source": [
    "A = np.random.randint(1, 100, size=10)\n",
    "B = np.random.randint(1, 100, size=10)\n",
    "print(A,B)"
   ]
  },
  {
   "cell_type": "markdown",
   "id": "81574001",
   "metadata": {},
   "source": [
    "Sabem que les dades són numériques, a més sent que es un random randint podem assumir també la seva normalitat llavor l'adeqüat seria fer Pearsons"
   ]
  },
  {
   "cell_type": "markdown",
   "id": "3af70aa3",
   "metadata": {},
   "source": [
    "$$r_{xy} = \\frac{\\sum_{i=1}^{n}(x_i - \\bar{x})(y_i - \\bar{y})}{\\sqrt{\\sum_{i=1}^{n}(x_i - \\bar{x})^2} \\sqrt{\\sum_{i=1}^{n}(y_i - \\bar{y})^2}}$$"
   ]
  },
  {
   "cell_type": "markdown",
   "id": "e649c65f",
   "metadata": {},
   "source": [
    "- **xi** i **yi** són els valors de la i-aquesta en els conjunts de dades \n",
    "- $\\bar{x}$ i $\\bar{y}$ són les mitjanes\n",
    "- **n** és la quantitat d' observacions en els conjunts de dades.\n",
    "\n",
    "    _Recordem que X correspondrà a la variable independent i la Y a la dependent, a més si es donen dos valors s'assumirà que el primer correspondrà a X i el segon a Y_"
   ]
  },
  {
   "cell_type": "code",
   "execution_count": 17,
   "id": "f2afc506",
   "metadata": {},
   "outputs": [],
   "source": [
    "import numpy as np\n",
    "\n",
    "def pearson(x, y):\n",
    "    mean_x = np.mean(x)\n",
    "    mean_y = np.mean(y)\n",
    "    std_x = np.std(x)\n",
    "    std_y = np.std(y)\n",
    "    cov_xy = np.cov(x, y)[0, 1]\n",
    "    corr = cov_xy / (std_x * std_y)\n",
    "    print(\"El coeficient de correlació és:\", corr)\n",
    "    if corr == 1:\n",
    "        print(\"Existeix una correlació positiva perfecta entre les dues variables\")\n",
    "    elif corr > 0:\n",
    "        print(\"Existeix una correlació positiva entre les dues variables\")\n",
    "    elif corr == 0:\n",
    "        print(\"No hi ha correlació entre les dues variables\")\n",
    "    elif -1 < corr < 0:\n",
    "        print(\"Existeix una correlació negativa entre les dues variables\")\n",
    "    elif corr == -1:\n",
    "        print(\"Existeix una correlació negativa perfecta entre les dues variables\")\n",
    "    elif corr < -1 or corr > 1:\n",
    "        print(\"El coeficient de correlació està fora de rang (-1 a 1).\")\n",
    "    return corr"
   ]
  },
  {
   "cell_type": "code",
   "execution_count": 18,
   "id": "bd1b827f",
   "metadata": {},
   "outputs": [
    {
     "name": "stdout",
     "output_type": "stream",
     "text": [
      "El coeficient de correlació és: -0.11835129576573845\n",
      "Existeix una correlació negativa entre les dues variables\n"
     ]
    },
    {
     "data": {
      "text/plain": [
       "-0.11835129576573845"
      ]
     },
     "execution_count": 18,
     "metadata": {},
     "output_type": "execute_result"
    }
   ],
   "source": [
    "pearson(A, B)"
   ]
  },
  {
   "cell_type": "markdown",
   "id": "17650131",
   "metadata": {},
   "source": [
    "Una correlació negativa és refereix que quan una augmenta l'altre disminueix el que em sorpren una mica perquè son una variables generades de forma aleatòria"
   ]
  }
 ],
 "metadata": {
  "kernelspec": {
   "display_name": "Python 3 (ipykernel)",
   "language": "python",
   "name": "python3"
  },
  "language_info": {
   "codemirror_mode": {
    "name": "ipython",
    "version": 3
   },
   "file_extension": ".py",
   "mimetype": "text/x-python",
   "name": "python",
   "nbconvert_exporter": "python",
   "pygments_lexer": "ipython3",
   "version": "3.9.13"
  }
 },
 "nbformat": 4,
 "nbformat_minor": 5
}
