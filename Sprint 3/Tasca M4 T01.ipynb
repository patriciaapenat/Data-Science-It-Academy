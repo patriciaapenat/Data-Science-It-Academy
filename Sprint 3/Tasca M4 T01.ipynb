{
 "cells": [
  {
   "cell_type": "markdown",
   "id": "eac6e8bb",
   "metadata": {},
   "source": [
    "# Exercici 1"
   ]
  },
  {
   "cell_type": "markdown",
   "id": "6192baaf",
   "metadata": {},
   "source": [
    "Descarrega el dataset adjunt preu lloguer per trimestre i barri.csv extret de la web OpenDataBCN i resumeix-lo estadísticament i gràficament.\n",
    "\n",
    "Crea almenys una visualització per:\n",
    "\n",
    "Una variable categòrica (Districte o Barri)\n",
    "Una variable numèrica (Preu)\n",
    "Una variable numèrica i una categòrica (Districte i Preu)\n",
    "Dues variables numèriques (Any o Trimestre i Preu)\n",
    "Tres variables (Barri o Districte, Trimestre i Preu)"
   ]
  },
  {
   "cell_type": "code",
   "execution_count": null,
   "id": "b63815ff",
   "metadata": {},
   "outputs": [],
   "source": []
  }
 ],
 "metadata": {
  "kernelspec": {
   "display_name": "Python 3 (ipykernel)",
   "language": "python",
   "name": "python3"
  },
  "language_info": {
   "codemirror_mode": {
    "name": "ipython",
    "version": 3
   },
   "file_extension": ".py",
   "mimetype": "text/x-python",
   "name": "python",
   "nbconvert_exporter": "python",
   "pygments_lexer": "ipython3",
   "version": "3.9.13"
  }
 },
 "nbformat": 4,
 "nbformat_minor": 5
}
