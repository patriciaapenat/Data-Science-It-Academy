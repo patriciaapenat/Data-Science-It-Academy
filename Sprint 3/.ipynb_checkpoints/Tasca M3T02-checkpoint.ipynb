{
 "cells": [
  {
   "cell_type": "markdown",
   "id": "e36fc117",
   "metadata": {},
   "source": [
    "# Tasca M3 T02"
   ]
  },
  {
   "cell_type": "markdown",
   "id": "4b2eb136",
   "metadata": {},
   "source": [
    "### Exercici 1"
   ]
  },
  {
   "cell_type": "markdown",
   "id": "f3302e69",
   "metadata": {},
   "source": [
    "Descarrega el data set Airlines Delay: Airline on-time statistics and delay causes i carrega’l a un Pandas Dataframe. Explora les dades que conté, explica breument quines variables hi ha i queda’t únicament amb les columnes que consideris rellevants. Justifica la teva elecció.\n",
    "\n",
    "->Airlines Delay: Airline on-time statistics and delay causes\n",
    "\n",
    "    Important\n",
    "\n",
    "    Redueix la dimensió del dataset de manera aleatòria per tal d'obtenir un dataset de només 200.000 registres. Tots els exercicis s'han de fer amb aquest dataset reduït."
   ]
  },
  {
   "cell_type": "code",
   "execution_count": 2,
   "id": "8bf0c646",
   "metadata": {},
   "outputs": [],
   "source": [
    "import pandas as pd\n",
    "DlydFlghts_orig = pd.read_csv(r\"C:\\Users\\Patricia\\Downloads\\DelayedFlights.csv\")"
   ]
  },
  {
   "cell_type": "code",
   "execution_count": 3,
   "id": "8907d11b",
   "metadata": {},
   "outputs": [
    {
     "data": {
      "text/plain": [
       "Unnamed: 0             int64\n",
       "Year                   int64\n",
       "Month                  int64\n",
       "DayofMonth             int64\n",
       "DayOfWeek              int64\n",
       "DepTime              float64\n",
       "CRSDepTime             int64\n",
       "ArrTime              float64\n",
       "CRSArrTime             int64\n",
       "UniqueCarrier         object\n",
       "FlightNum              int64\n",
       "TailNum               object\n",
       "ActualElapsedTime    float64\n",
       "CRSElapsedTime       float64\n",
       "AirTime              float64\n",
       "ArrDelay             float64\n",
       "DepDelay             float64\n",
       "Origin                object\n",
       "Dest                  object\n",
       "Distance               int64\n",
       "TaxiIn               float64\n",
       "TaxiOut              float64\n",
       "Cancelled              int64\n",
       "CancellationCode      object\n",
       "Diverted               int64\n",
       "CarrierDelay         float64\n",
       "WeatherDelay         float64\n",
       "NASDelay             float64\n",
       "SecurityDelay        float64\n",
       "LateAircraftDelay    float64\n",
       "dtype: object"
      ]
     },
     "execution_count": 3,
     "metadata": {},
     "output_type": "execute_result"
    }
   ],
   "source": [
    "DlydFlghts_orig.dtypes"
   ]
  },
  {
   "cell_type": "code",
   "execution_count": 4,
   "id": "20cbd22e",
   "metadata": {},
   "outputs": [
    {
     "data": {
      "text/plain": [
       "<bound method DataFrame.info of          Unnamed: 0  Year  Month  DayofMonth  DayOfWeek  DepTime  CRSDepTime  \\\n",
       "0                 0  2008      1           3          4   2003.0        1955   \n",
       "1                 1  2008      1           3          4    754.0         735   \n",
       "2                 2  2008      1           3          4    628.0         620   \n",
       "3                 4  2008      1           3          4   1829.0        1755   \n",
       "4                 5  2008      1           3          4   1940.0        1915   \n",
       "...             ...   ...    ...         ...        ...      ...         ...   \n",
       "1936753     7009710  2008     12          13          6   1250.0        1220   \n",
       "1936754     7009717  2008     12          13          6    657.0         600   \n",
       "1936755     7009718  2008     12          13          6   1007.0         847   \n",
       "1936756     7009726  2008     12          13          6   1251.0        1240   \n",
       "1936757     7009727  2008     12          13          6   1110.0        1103   \n",
       "\n",
       "         ArrTime  CRSArrTime UniqueCarrier  ...  TaxiIn TaxiOut  Cancelled  \\\n",
       "0         2211.0        2225            WN  ...     4.0     8.0          0   \n",
       "1         1002.0        1000            WN  ...     5.0    10.0          0   \n",
       "2          804.0         750            WN  ...     3.0    17.0          0   \n",
       "3         1959.0        1925            WN  ...     3.0    10.0          0   \n",
       "4         2121.0        2110            WN  ...     4.0    10.0          0   \n",
       "...          ...         ...           ...  ...     ...     ...        ...   \n",
       "1936753   1617.0        1552            DL  ...     9.0    18.0          0   \n",
       "1936754    904.0         749            DL  ...    15.0    34.0          0   \n",
       "1936755   1149.0        1010            DL  ...     8.0    32.0          0   \n",
       "1936756   1446.0        1437            DL  ...    13.0    13.0          0   \n",
       "1936757   1413.0        1418            DL  ...     8.0    11.0          0   \n",
       "\n",
       "         CancellationCode  Diverted  CarrierDelay  WeatherDelay NASDelay  \\\n",
       "0                       N         0           NaN           NaN      NaN   \n",
       "1                       N         0           NaN           NaN      NaN   \n",
       "2                       N         0           NaN           NaN      NaN   \n",
       "3                       N         0           2.0           0.0      0.0   \n",
       "4                       N         0           NaN           NaN      NaN   \n",
       "...                   ...       ...           ...           ...      ...   \n",
       "1936753                 N         0           3.0           0.0      0.0   \n",
       "1936754                 N         0           0.0          57.0     18.0   \n",
       "1936755                 N         0           1.0           0.0     19.0   \n",
       "1936756                 N         0           NaN           NaN      NaN   \n",
       "1936757                 N         0           NaN           NaN      NaN   \n",
       "\n",
       "        SecurityDelay  LateAircraftDelay  \n",
       "0                 NaN                NaN  \n",
       "1                 NaN                NaN  \n",
       "2                 NaN                NaN  \n",
       "3                 0.0               32.0  \n",
       "4                 NaN                NaN  \n",
       "...               ...                ...  \n",
       "1936753           0.0               22.0  \n",
       "1936754           0.0                0.0  \n",
       "1936755           0.0               79.0  \n",
       "1936756           NaN                NaN  \n",
       "1936757           NaN                NaN  \n",
       "\n",
       "[1936758 rows x 30 columns]>"
      ]
     },
     "execution_count": 4,
     "metadata": {},
     "output_type": "execute_result"
    }
   ],
   "source": [
    "DlydFlghts_orig.info"
   ]
  },
  {
   "cell_type": "code",
   "execution_count": 5,
   "id": "b2778d46",
   "metadata": {},
   "outputs": [
    {
     "data": {
      "text/html": [
       "<div>\n",
       "<style scoped>\n",
       "    .dataframe tbody tr th:only-of-type {\n",
       "        vertical-align: middle;\n",
       "    }\n",
       "\n",
       "    .dataframe tbody tr th {\n",
       "        vertical-align: top;\n",
       "    }\n",
       "\n",
       "    .dataframe thead th {\n",
       "        text-align: right;\n",
       "    }\n",
       "</style>\n",
       "<table border=\"1\" class=\"dataframe\">\n",
       "  <thead>\n",
       "    <tr style=\"text-align: right;\">\n",
       "      <th></th>\n",
       "      <th>Unnamed: 0</th>\n",
       "      <th>Year</th>\n",
       "      <th>Month</th>\n",
       "      <th>DayofMonth</th>\n",
       "      <th>DayOfWeek</th>\n",
       "      <th>DepTime</th>\n",
       "      <th>CRSDepTime</th>\n",
       "      <th>ArrTime</th>\n",
       "      <th>CRSArrTime</th>\n",
       "      <th>UniqueCarrier</th>\n",
       "      <th>...</th>\n",
       "      <th>TaxiIn</th>\n",
       "      <th>TaxiOut</th>\n",
       "      <th>Cancelled</th>\n",
       "      <th>CancellationCode</th>\n",
       "      <th>Diverted</th>\n",
       "      <th>CarrierDelay</th>\n",
       "      <th>WeatherDelay</th>\n",
       "      <th>NASDelay</th>\n",
       "      <th>SecurityDelay</th>\n",
       "      <th>LateAircraftDelay</th>\n",
       "    </tr>\n",
       "  </thead>\n",
       "  <tbody>\n",
       "    <tr>\n",
       "      <th>count</th>\n",
       "      <td>1.936758e+06</td>\n",
       "      <td>1936758.0</td>\n",
       "      <td>1.936758e+06</td>\n",
       "      <td>1.936758e+06</td>\n",
       "      <td>1.936758e+06</td>\n",
       "      <td>1.936758e+06</td>\n",
       "      <td>1.936758e+06</td>\n",
       "      <td>1.929648e+06</td>\n",
       "      <td>1.936758e+06</td>\n",
       "      <td>1936758</td>\n",
       "      <td>...</td>\n",
       "      <td>1.929648e+06</td>\n",
       "      <td>1.936303e+06</td>\n",
       "      <td>1.936758e+06</td>\n",
       "      <td>1936758</td>\n",
       "      <td>1.936758e+06</td>\n",
       "      <td>1.247488e+06</td>\n",
       "      <td>1.247488e+06</td>\n",
       "      <td>1.247488e+06</td>\n",
       "      <td>1.247488e+06</td>\n",
       "      <td>1.247488e+06</td>\n",
       "    </tr>\n",
       "    <tr>\n",
       "      <th>unique</th>\n",
       "      <td>NaN</td>\n",
       "      <td>NaN</td>\n",
       "      <td>NaN</td>\n",
       "      <td>NaN</td>\n",
       "      <td>NaN</td>\n",
       "      <td>NaN</td>\n",
       "      <td>NaN</td>\n",
       "      <td>NaN</td>\n",
       "      <td>NaN</td>\n",
       "      <td>20</td>\n",
       "      <td>...</td>\n",
       "      <td>NaN</td>\n",
       "      <td>NaN</td>\n",
       "      <td>NaN</td>\n",
       "      <td>4</td>\n",
       "      <td>NaN</td>\n",
       "      <td>NaN</td>\n",
       "      <td>NaN</td>\n",
       "      <td>NaN</td>\n",
       "      <td>NaN</td>\n",
       "      <td>NaN</td>\n",
       "    </tr>\n",
       "    <tr>\n",
       "      <th>top</th>\n",
       "      <td>NaN</td>\n",
       "      <td>NaN</td>\n",
       "      <td>NaN</td>\n",
       "      <td>NaN</td>\n",
       "      <td>NaN</td>\n",
       "      <td>NaN</td>\n",
       "      <td>NaN</td>\n",
       "      <td>NaN</td>\n",
       "      <td>NaN</td>\n",
       "      <td>WN</td>\n",
       "      <td>...</td>\n",
       "      <td>NaN</td>\n",
       "      <td>NaN</td>\n",
       "      <td>NaN</td>\n",
       "      <td>N</td>\n",
       "      <td>NaN</td>\n",
       "      <td>NaN</td>\n",
       "      <td>NaN</td>\n",
       "      <td>NaN</td>\n",
       "      <td>NaN</td>\n",
       "      <td>NaN</td>\n",
       "    </tr>\n",
       "    <tr>\n",
       "      <th>freq</th>\n",
       "      <td>NaN</td>\n",
       "      <td>NaN</td>\n",
       "      <td>NaN</td>\n",
       "      <td>NaN</td>\n",
       "      <td>NaN</td>\n",
       "      <td>NaN</td>\n",
       "      <td>NaN</td>\n",
       "      <td>NaN</td>\n",
       "      <td>NaN</td>\n",
       "      <td>377602</td>\n",
       "      <td>...</td>\n",
       "      <td>NaN</td>\n",
       "      <td>NaN</td>\n",
       "      <td>NaN</td>\n",
       "      <td>1936125</td>\n",
       "      <td>NaN</td>\n",
       "      <td>NaN</td>\n",
       "      <td>NaN</td>\n",
       "      <td>NaN</td>\n",
       "      <td>NaN</td>\n",
       "      <td>NaN</td>\n",
       "    </tr>\n",
       "    <tr>\n",
       "      <th>mean</th>\n",
       "      <td>3.341651e+06</td>\n",
       "      <td>2008.0</td>\n",
       "      <td>6.111106e+00</td>\n",
       "      <td>1.575347e+01</td>\n",
       "      <td>3.984827e+00</td>\n",
       "      <td>1.518534e+03</td>\n",
       "      <td>1.467473e+03</td>\n",
       "      <td>1.610141e+03</td>\n",
       "      <td>1.634225e+03</td>\n",
       "      <td>NaN</td>\n",
       "      <td>...</td>\n",
       "      <td>6.812975e+00</td>\n",
       "      <td>1.823220e+01</td>\n",
       "      <td>3.268348e-04</td>\n",
       "      <td>NaN</td>\n",
       "      <td>4.003598e-03</td>\n",
       "      <td>1.917940e+01</td>\n",
       "      <td>3.703571e+00</td>\n",
       "      <td>1.502164e+01</td>\n",
       "      <td>9.013714e-02</td>\n",
       "      <td>2.529647e+01</td>\n",
       "    </tr>\n",
       "    <tr>\n",
       "      <th>std</th>\n",
       "      <td>2.066065e+06</td>\n",
       "      <td>0.0</td>\n",
       "      <td>3.482546e+00</td>\n",
       "      <td>8.776272e+00</td>\n",
       "      <td>1.995966e+00</td>\n",
       "      <td>4.504853e+02</td>\n",
       "      <td>4.247668e+02</td>\n",
       "      <td>5.481781e+02</td>\n",
       "      <td>4.646347e+02</td>\n",
       "      <td>NaN</td>\n",
       "      <td>...</td>\n",
       "      <td>5.273595e+00</td>\n",
       "      <td>1.433853e+01</td>\n",
       "      <td>1.807562e-02</td>\n",
       "      <td>NaN</td>\n",
       "      <td>6.314722e-02</td>\n",
       "      <td>4.354621e+01</td>\n",
       "      <td>2.149290e+01</td>\n",
       "      <td>3.383305e+01</td>\n",
       "      <td>2.022714e+00</td>\n",
       "      <td>4.205486e+01</td>\n",
       "    </tr>\n",
       "    <tr>\n",
       "      <th>min</th>\n",
       "      <td>0.000000e+00</td>\n",
       "      <td>2008.0</td>\n",
       "      <td>1.000000e+00</td>\n",
       "      <td>1.000000e+00</td>\n",
       "      <td>1.000000e+00</td>\n",
       "      <td>1.000000e+00</td>\n",
       "      <td>0.000000e+00</td>\n",
       "      <td>1.000000e+00</td>\n",
       "      <td>0.000000e+00</td>\n",
       "      <td>NaN</td>\n",
       "      <td>...</td>\n",
       "      <td>0.000000e+00</td>\n",
       "      <td>0.000000e+00</td>\n",
       "      <td>0.000000e+00</td>\n",
       "      <td>NaN</td>\n",
       "      <td>0.000000e+00</td>\n",
       "      <td>0.000000e+00</td>\n",
       "      <td>0.000000e+00</td>\n",
       "      <td>0.000000e+00</td>\n",
       "      <td>0.000000e+00</td>\n",
       "      <td>0.000000e+00</td>\n",
       "    </tr>\n",
       "    <tr>\n",
       "      <th>25%</th>\n",
       "      <td>1.517452e+06</td>\n",
       "      <td>2008.0</td>\n",
       "      <td>3.000000e+00</td>\n",
       "      <td>8.000000e+00</td>\n",
       "      <td>2.000000e+00</td>\n",
       "      <td>1.203000e+03</td>\n",
       "      <td>1.135000e+03</td>\n",
       "      <td>1.316000e+03</td>\n",
       "      <td>1.325000e+03</td>\n",
       "      <td>NaN</td>\n",
       "      <td>...</td>\n",
       "      <td>4.000000e+00</td>\n",
       "      <td>1.000000e+01</td>\n",
       "      <td>0.000000e+00</td>\n",
       "      <td>NaN</td>\n",
       "      <td>0.000000e+00</td>\n",
       "      <td>0.000000e+00</td>\n",
       "      <td>0.000000e+00</td>\n",
       "      <td>0.000000e+00</td>\n",
       "      <td>0.000000e+00</td>\n",
       "      <td>0.000000e+00</td>\n",
       "    </tr>\n",
       "    <tr>\n",
       "      <th>50%</th>\n",
       "      <td>3.242558e+06</td>\n",
       "      <td>2008.0</td>\n",
       "      <td>6.000000e+00</td>\n",
       "      <td>1.600000e+01</td>\n",
       "      <td>4.000000e+00</td>\n",
       "      <td>1.545000e+03</td>\n",
       "      <td>1.510000e+03</td>\n",
       "      <td>1.715000e+03</td>\n",
       "      <td>1.705000e+03</td>\n",
       "      <td>NaN</td>\n",
       "      <td>...</td>\n",
       "      <td>6.000000e+00</td>\n",
       "      <td>1.400000e+01</td>\n",
       "      <td>0.000000e+00</td>\n",
       "      <td>NaN</td>\n",
       "      <td>0.000000e+00</td>\n",
       "      <td>2.000000e+00</td>\n",
       "      <td>0.000000e+00</td>\n",
       "      <td>2.000000e+00</td>\n",
       "      <td>0.000000e+00</td>\n",
       "      <td>8.000000e+00</td>\n",
       "    </tr>\n",
       "    <tr>\n",
       "      <th>75%</th>\n",
       "      <td>4.972467e+06</td>\n",
       "      <td>2008.0</td>\n",
       "      <td>9.000000e+00</td>\n",
       "      <td>2.300000e+01</td>\n",
       "      <td>6.000000e+00</td>\n",
       "      <td>1.900000e+03</td>\n",
       "      <td>1.815000e+03</td>\n",
       "      <td>2.030000e+03</td>\n",
       "      <td>2.014000e+03</td>\n",
       "      <td>NaN</td>\n",
       "      <td>...</td>\n",
       "      <td>8.000000e+00</td>\n",
       "      <td>2.100000e+01</td>\n",
       "      <td>0.000000e+00</td>\n",
       "      <td>NaN</td>\n",
       "      <td>0.000000e+00</td>\n",
       "      <td>2.100000e+01</td>\n",
       "      <td>0.000000e+00</td>\n",
       "      <td>1.500000e+01</td>\n",
       "      <td>0.000000e+00</td>\n",
       "      <td>3.300000e+01</td>\n",
       "    </tr>\n",
       "    <tr>\n",
       "      <th>max</th>\n",
       "      <td>7.009727e+06</td>\n",
       "      <td>2008.0</td>\n",
       "      <td>1.200000e+01</td>\n",
       "      <td>3.100000e+01</td>\n",
       "      <td>7.000000e+00</td>\n",
       "      <td>2.400000e+03</td>\n",
       "      <td>2.359000e+03</td>\n",
       "      <td>2.400000e+03</td>\n",
       "      <td>2.400000e+03</td>\n",
       "      <td>NaN</td>\n",
       "      <td>...</td>\n",
       "      <td>2.400000e+02</td>\n",
       "      <td>4.220000e+02</td>\n",
       "      <td>1.000000e+00</td>\n",
       "      <td>NaN</td>\n",
       "      <td>1.000000e+00</td>\n",
       "      <td>2.436000e+03</td>\n",
       "      <td>1.352000e+03</td>\n",
       "      <td>1.357000e+03</td>\n",
       "      <td>3.920000e+02</td>\n",
       "      <td>1.316000e+03</td>\n",
       "    </tr>\n",
       "  </tbody>\n",
       "</table>\n",
       "<p>11 rows × 30 columns</p>\n",
       "</div>"
      ],
      "text/plain": [
       "          Unnamed: 0       Year         Month    DayofMonth     DayOfWeek  \\\n",
       "count   1.936758e+06  1936758.0  1.936758e+06  1.936758e+06  1.936758e+06   \n",
       "unique           NaN        NaN           NaN           NaN           NaN   \n",
       "top              NaN        NaN           NaN           NaN           NaN   \n",
       "freq             NaN        NaN           NaN           NaN           NaN   \n",
       "mean    3.341651e+06     2008.0  6.111106e+00  1.575347e+01  3.984827e+00   \n",
       "std     2.066065e+06        0.0  3.482546e+00  8.776272e+00  1.995966e+00   \n",
       "min     0.000000e+00     2008.0  1.000000e+00  1.000000e+00  1.000000e+00   \n",
       "25%     1.517452e+06     2008.0  3.000000e+00  8.000000e+00  2.000000e+00   \n",
       "50%     3.242558e+06     2008.0  6.000000e+00  1.600000e+01  4.000000e+00   \n",
       "75%     4.972467e+06     2008.0  9.000000e+00  2.300000e+01  6.000000e+00   \n",
       "max     7.009727e+06     2008.0  1.200000e+01  3.100000e+01  7.000000e+00   \n",
       "\n",
       "             DepTime    CRSDepTime       ArrTime    CRSArrTime UniqueCarrier  \\\n",
       "count   1.936758e+06  1.936758e+06  1.929648e+06  1.936758e+06       1936758   \n",
       "unique           NaN           NaN           NaN           NaN            20   \n",
       "top              NaN           NaN           NaN           NaN            WN   \n",
       "freq             NaN           NaN           NaN           NaN        377602   \n",
       "mean    1.518534e+03  1.467473e+03  1.610141e+03  1.634225e+03           NaN   \n",
       "std     4.504853e+02  4.247668e+02  5.481781e+02  4.646347e+02           NaN   \n",
       "min     1.000000e+00  0.000000e+00  1.000000e+00  0.000000e+00           NaN   \n",
       "25%     1.203000e+03  1.135000e+03  1.316000e+03  1.325000e+03           NaN   \n",
       "50%     1.545000e+03  1.510000e+03  1.715000e+03  1.705000e+03           NaN   \n",
       "75%     1.900000e+03  1.815000e+03  2.030000e+03  2.014000e+03           NaN   \n",
       "max     2.400000e+03  2.359000e+03  2.400000e+03  2.400000e+03           NaN   \n",
       "\n",
       "        ...        TaxiIn       TaxiOut     Cancelled  CancellationCode  \\\n",
       "count   ...  1.929648e+06  1.936303e+06  1.936758e+06           1936758   \n",
       "unique  ...           NaN           NaN           NaN                 4   \n",
       "top     ...           NaN           NaN           NaN                 N   \n",
       "freq    ...           NaN           NaN           NaN           1936125   \n",
       "mean    ...  6.812975e+00  1.823220e+01  3.268348e-04               NaN   \n",
       "std     ...  5.273595e+00  1.433853e+01  1.807562e-02               NaN   \n",
       "min     ...  0.000000e+00  0.000000e+00  0.000000e+00               NaN   \n",
       "25%     ...  4.000000e+00  1.000000e+01  0.000000e+00               NaN   \n",
       "50%     ...  6.000000e+00  1.400000e+01  0.000000e+00               NaN   \n",
       "75%     ...  8.000000e+00  2.100000e+01  0.000000e+00               NaN   \n",
       "max     ...  2.400000e+02  4.220000e+02  1.000000e+00               NaN   \n",
       "\n",
       "            Diverted  CarrierDelay  WeatherDelay      NASDelay SecurityDelay  \\\n",
       "count   1.936758e+06  1.247488e+06  1.247488e+06  1.247488e+06  1.247488e+06   \n",
       "unique           NaN           NaN           NaN           NaN           NaN   \n",
       "top              NaN           NaN           NaN           NaN           NaN   \n",
       "freq             NaN           NaN           NaN           NaN           NaN   \n",
       "mean    4.003598e-03  1.917940e+01  3.703571e+00  1.502164e+01  9.013714e-02   \n",
       "std     6.314722e-02  4.354621e+01  2.149290e+01  3.383305e+01  2.022714e+00   \n",
       "min     0.000000e+00  0.000000e+00  0.000000e+00  0.000000e+00  0.000000e+00   \n",
       "25%     0.000000e+00  0.000000e+00  0.000000e+00  0.000000e+00  0.000000e+00   \n",
       "50%     0.000000e+00  2.000000e+00  0.000000e+00  2.000000e+00  0.000000e+00   \n",
       "75%     0.000000e+00  2.100000e+01  0.000000e+00  1.500000e+01  0.000000e+00   \n",
       "max     1.000000e+00  2.436000e+03  1.352000e+03  1.357000e+03  3.920000e+02   \n",
       "\n",
       "        LateAircraftDelay  \n",
       "count        1.247488e+06  \n",
       "unique                NaN  \n",
       "top                   NaN  \n",
       "freq                  NaN  \n",
       "mean         2.529647e+01  \n",
       "std          4.205486e+01  \n",
       "min          0.000000e+00  \n",
       "25%          0.000000e+00  \n",
       "50%          8.000000e+00  \n",
       "75%          3.300000e+01  \n",
       "max          1.316000e+03  \n",
       "\n",
       "[11 rows x 30 columns]"
      ]
     },
     "execution_count": 5,
     "metadata": {},
     "output_type": "execute_result"
    }
   ],
   "source": [
    "DlydFlghts_orig.describe(include='all')"
   ]
  },
  {
   "cell_type": "markdown",
   "id": "d0216e3a",
   "metadata": {},
   "source": [
    "Veiem que hi han massa dades llavors hem de reduïr"
   ]
  },
  {
   "cell_type": "code",
   "execution_count": 6,
   "id": "e474f5d5",
   "metadata": {},
   "outputs": [],
   "source": [
    "DlydFlghts = DlydFlghts_orig.sample(n=200000, random_state=42)"
   ]
  },
  {
   "cell_type": "markdown",
   "id": "c41146cf",
   "metadata": {},
   "source": [
    "També serà necessari treure els vols que van ser cancel·lats"
   ]
  },
  {
   "cell_type": "code",
   "execution_count": 31,
   "id": "aab3ef59",
   "metadata": {},
   "outputs": [],
   "source": [
    "DlydFlghts.drop(DlydFlghts[DlydFlghts['Cancelled'] == 1].index, inplace = True)"
   ]
  },
  {
   "cell_type": "markdown",
   "id": "4e4b72ce",
   "metadata": {},
   "source": [
    "Després de explorar el report automàtic produït per Pandas ens fem una idea de què hi ha en la base de dades, el problema seria que sense massa context de què volem fer amb aquestes dades és difícil endevinar què és important, mirant l'exercici 3 les preguntes sobre les dades fan referència a:\n",
    "\n",
    "- Velocitat mitjana del vol (Necessitarè temps en l'aire i distància)\n",
    "- Retard sí/no (amb que qualsevol delay hagi existit ja ens donarà per separar en True/False)\n",
    "- Aerolínies amb més retards (Necessitarem a passar el codi IATA al nom sencer)\n",
    "- Vols més llargs \n",
    "- Vols amb més retards (\n",
    "- Rutes més llargues (Distància entre origen i destí)\n",
    "- Rutes amb més retards (Comparar origen i destí)\n",
    "\n",
    "\n",
    "Vaig tener moltíssimes dubtes sobre quines dades treure, primer vaig considerar treure TaxiIn/TaxiOut però vaig revisar que és el temps entre que l'avió s'allunya de l'àrea d'embarcament fins que pot enlairar-se llavors al final té molta relació amb els retrasos sobre tot si comparessim els a aeroports però finalmente el que he fet es treure tot el que no anava a fer servir tot i que algunes vaig haver de ser conscient de que encara no podrè eliminar-les perquè he de fer transformacions\n",
    "\n",
    "Vaig a treure:\n",
    "\n",
    "- Unnamed &#8594; no sabem què es directament\n",
    "\n",
    "- Year, Month, DayofMont, DayOfWeek &#8594; Vaig tenir una miqueta de angoixa de haver de eliminar aquestes però realment no se'ns pregunta res sobre les dates\n",
    "- FlightNum &#8594; és un identificador únic per vol\n",
    "- TailNum &#8594; és un identificador de l'aeronau i tampoc és una informació que anem a fer servir\n",
    "- ActualElapsedTime/CRSElapsedTime &#8594; fa referència al temps que es tarda un vol incloent també una vegada tenen Taxi\n",
    "\n",
    "- TaxiIn/TaxiOut &#8594; Podria ser interessant però no assembla que anem a fer servir aquesta informació, tot i que de qualsevol manera vaig investigar-ho.\n",
    "- Cancelled &#8594; No se'ns pregunta al respecte de la seva cancelació o no\n",
    "- CancellationCode &#8594; Sense tenir accès a l'altra taula que digui què volen dir aquest codis no té massa sentit\n",
    "\n",
    "- DepTime, CRSDepTime, ArrTime, CRSArrTime &#8594; això es refereix a les hores reals i les programades, ja hi han unes columnes que ens dona la quantita de temps transcorregut, de ElapsedTime no existeix la columna llavors cal fer-la\n",
    "- Diverted &#8594; no se'ns pregunta per si ha sigut desviat o no\n",
    "- CarrierDelay / WeatherDelay / NASDelay / SecurityDelay / LateAircraftDelay  &#8594; No se'ns pregunta pel tipus de retràs\n",
    "\n",
    "També pels dubtes el que fem es crear una nova taula no més amb les columnes que farem servir."
   ]
  },
  {
   "cell_type": "code",
   "execution_count": 32,
   "id": "c2041e35",
   "metadata": {},
   "outputs": [
    {
     "name": "stdout",
     "output_type": "stream",
     "text": [
      "        UniqueCarrier  AirTime  ArrDelay  DepDelay Origin Dest  Distance\n",
      "1782417            YV    177.0      71.0      10.0    IAD  AUS      1297\n",
      "512712             NW     55.0     548.0     560.0    ORD  MSP       334\n",
      "447137             OO     44.0       9.0      21.0    SLC  PIH       150\n",
      "55082              OO     32.0      52.0      54.0    HDN  DEN       142\n",
      "877634             CO    134.0      22.0       7.0    JAX  IAH       817\n",
      "...               ...      ...       ...       ...    ...  ...       ...\n",
      "1106815            WN     42.0      12.0      13.0    SAT  DAL       248\n",
      "269784             US     85.0      16.0      24.0    CLT  TPA       508\n",
      "627539             OO     56.0       5.0       7.0    BUR  SFO       326\n",
      "292264             EV     99.0      -3.0       7.0    ATL  SYR       793\n",
      "554861             B6    163.0     133.0     138.0    BUF  RSW      1144\n",
      "\n",
      "[199940 rows x 7 columns]\n"
     ]
    }
   ],
   "source": [
    "columns_to_keep = ['UniqueCarrier', 'AirTime', 'ArrDelay', 'DepDelay', 'Origin', 'Dest','Distance',]\n",
    "\n",
    "Reduced_DlydFlghts = DlydFlghts.loc[:, columns_to_keep]\n",
    "print(Reduced_DlydFlghts)"
   ]
  },
  {
   "cell_type": "markdown",
   "id": "3a49824f",
   "metadata": {},
   "source": [
    "### Exercici 2"
   ]
  },
  {
   "cell_type": "markdown",
   "id": "c73ff3e0",
   "metadata": {},
   "source": [
    "Fes un informe complet del dataset:\n",
    "\n",
    "Resumeix estadísticament el dataset i les columnes d’interès. Fes una anàlisi estadístic del que consideris rellevant.\n",
    "Troba quantes dades faltants hi ha per columna.\n",
    "Crea columnes noves (velocitat mitjana del vol, si ha arribat tard o no...).\n",
    "Fes una taula de les aerolínies amb més endarreriments acumulats.\n",
    "Quins són els vols més llargs? I els més endarrerits? Busca les rutes més llargues i les que acumulen més retards.\n",
    "Aporta allò que consideris rellevant."
   ]
  },
  {
   "cell_type": "markdown",
   "id": "aef15cf8",
   "metadata": {},
   "source": [
    "    M'havia fixat en que no tenia els noms sencers de les arolínies i llocs d'origen/destí perquè hi son, llavors vaig haver de revisar i como es un format estandartizat (IATA) sembla que existia un paquet que feia això automàticament però ja no i vaig trobar un parell de CSV pero acompletar l'informació"
   ]
  },
  {
   "cell_type": "markdown",
   "id": "5fe4b742",
   "metadata": {},
   "source": [
    "    Trobar els noms de les aerolínies "
   ]
  },
  {
   "cell_type": "code",
   "execution_count": 33,
   "id": "ac7ed42a",
   "metadata": {
    "scrolled": true
   },
   "outputs": [
    {
     "name": "stdout",
     "output_type": "stream",
     "text": [
      "              0                1              2             3\n",
      "0     iata_code        icao_code           name         alias\n",
      "1            0B              BMS       Blue Air           NaN\n",
      "2            0C         Catovair            NaN          None\n",
      "3            0J   Premium Jet AG            NaN          None\n",
      "4            0O       STA Travel            NaN          None\n",
      "...         ...              ...            ...           ...\n",
      "1062         ZV              VAX          V Air           NaN\n",
      "1063         ZW              AWI  Air Wisconsin           NaN\n",
      "1064         ZX              GGN   Air Georgian  Air Alliance\n",
      "1065         ZY  China Air Cargo            NaN          None\n",
      "1066         ZZ  Airline Service            NaN          None\n",
      "\n",
      "[1067 rows x 4 columns]\n"
     ]
    }
   ],
   "source": [
    "import pandas as pd\n",
    "IATA_Airlines = pd.read_csv(r\"C:\\Users\\Patricia\\Downloads\\iata_airlines.csv\", sep=',', header=None, on_bad_lines='skip', engine='python')\n",
    "print(IATA_Airlines)"
   ]
  },
  {
   "cell_type": "code",
   "execution_count": 34,
   "id": "4c721905",
   "metadata": {},
   "outputs": [
    {
     "name": "stdout",
     "output_type": "stream",
     "text": [
      "1782417          Mesa Airlines\n",
      "512712          Nwest Airlines\n",
      "447137        SkyWest Airlines\n",
      "55082         SkyWest Airlines\n",
      "877634              Cobalt Air\n",
      "                  ...         \n",
      "1106815     Southwest Airlines\n",
      "269784              US Airways\n",
      "627539        SkyWest Airlines\n",
      "292264     ExpressJet Airlines\n",
      "554861                 JetBlue\n",
      "Name: AirlineName, Length: 199940, dtype: object\n"
     ]
    }
   ],
   "source": [
    "IATA_dict = dict(zip(IATA_Airlines[0], IATA_Airlines[2]))\n",
    "Reduced_DlydFlghts['AirlineName'] = Reduced_DlydFlghts.apply(lambda row: IATA_dict.get(row['UniqueCarrier']), axis=1)\n",
    "print(Reduced_DlydFlghts['AirlineName'])"
   ]
  },
  {
   "cell_type": "markdown",
   "id": "d42dd51f",
   "metadata": {},
   "source": [
    "    Trobar els noms dels aeroports"
   ]
  },
  {
   "cell_type": "code",
   "execution_count": 35,
   "id": "15f67e48",
   "metadata": {},
   "outputs": [],
   "source": [
    "IATA_Airports = pd.read_csv(r\"C:\\Users\\Patricia\\Downloads\\airport-codes.csv\", sep=',', header=None, on_bad_lines='skip', engine='python')"
   ]
  },
  {
   "cell_type": "code",
   "execution_count": 36,
   "id": "d7978007",
   "metadata": {},
   "outputs": [
    {
     "name": "stdout",
     "output_type": "stream",
     "text": [
      "1782417             Washington Dulles International Airport\n",
      "512712                 Chicago O'Hare International Airport\n",
      "447137                 Salt Lake City International Airport\n",
      "55082                                  Yampa Valley Airport\n",
      "877634                   Jacksonville International Airport\n",
      "                                 ...                       \n",
      "1106815                   San Antonio International Airport\n",
      "269784              Charlotte Douglas International Airport\n",
      "627539                                     Bob Hope Airport\n",
      "292264     Hartsfield Jackson Atlanta International Airport\n",
      "554861                Buffalo Niagara International Airport\n",
      "Name: AirportOrigin, Length: 199940, dtype: object\n"
     ]
    }
   ],
   "source": [
    "IATA_dict = dict(zip(IATA_Airports[9], IATA_Airports[2]))\n",
    "Reduced_DlydFlghts['AirportOrigin'] = Reduced_DlydFlghts.apply(lambda row: IATA_dict.get(row['Origin']), axis=1)\n",
    "print(Reduced_DlydFlghts['AirportOrigin'])"
   ]
  },
  {
   "cell_type": "code",
   "execution_count": 37,
   "id": "d1e4a781",
   "metadata": {},
   "outputs": [
    {
     "name": "stdout",
     "output_type": "stream",
     "text": [
      "1782417               Austin Bergstrom International Airport\n",
      "512712     Minneapolis-St Paul International/Wold-Chamber...\n",
      "447137                            Pocatello Regional Airport\n",
      "55082                           Denver International Airport\n",
      "877634          George Bush Intercontinental Houston Airport\n",
      "                                 ...                        \n",
      "1106815                                    Dallas Love Field\n",
      "269784                           Tampa International Airport\n",
      "627539                   San Francisco International Airport\n",
      "292264                Syracuse Hancock International Airport\n",
      "554861               Southwest Florida International Airport\n",
      "Name: AirportDest, Length: 199940, dtype: object\n"
     ]
    }
   ],
   "source": [
    "IATA_dict = dict(zip(IATA_Airports[9], IATA_Airports[2]))\n",
    "Reduced_DlydFlghts['AirportDest'] = Reduced_DlydFlghts.apply(lambda row: IATA_dict.get(row['Dest']), axis=1)\n",
    "print(Reduced_DlydFlghts['AirportDest'])"
   ]
  },
  {
   "cell_type": "markdown",
   "id": "159acc28",
   "metadata": {},
   "source": [
    "    Ara simplement esborrem tot el que ja no vam necessitar"
   ]
  },
  {
   "cell_type": "code",
   "execution_count": 38,
   "id": "0a7596c4",
   "metadata": {},
   "outputs": [],
   "source": [
    "Reduced_DlydFlghts = Reduced_DlydFlghts.drop(['UniqueCarrier'], axis=1)"
   ]
  },
  {
   "cell_type": "markdown",
   "id": "3df66740",
   "metadata": {},
   "source": [
    "    També es podria haver eliminat Origin y Dest pero más adelante facilitarán la lectura"
   ]
  },
  {
   "cell_type": "markdown",
   "id": "f412ae23",
   "metadata": {},
   "source": [
    "___\n",
    "___"
   ]
  },
  {
   "cell_type": "markdown",
   "id": "37c4cb4c",
   "metadata": {},
   "source": [
    "Farem un petit resum estadístic del dataset"
   ]
  },
  {
   "cell_type": "code",
   "execution_count": 39,
   "id": "4d1aec4e",
   "metadata": {},
   "outputs": [
    {
     "name": "stdout",
     "output_type": "stream",
     "text": [
      "Resum estadístic:\n",
      "               AirTime       ArrDelay       DepDelay  Origin    Dest  \\\n",
      "count   199127.000000  199127.000000  199940.000000  199940  199940   \n",
      "unique            NaN            NaN            NaN     297     300   \n",
      "top               NaN            NaN            NaN     ATL     ORD   \n",
      "freq              NaN            NaN            NaN   13614   11128   \n",
      "mean       108.197070      42.371456      43.308157     NaN     NaN   \n",
      "std         68.472446      57.004644      53.569993     NaN     NaN   \n",
      "min          0.000000     -57.000000       6.000000     NaN     NaN   \n",
      "25%         58.000000       9.000000      12.000000     NaN     NaN   \n",
      "50%         90.000000      25.000000      24.000000     NaN     NaN   \n",
      "75%        137.000000      56.000000      54.000000     NaN     NaN   \n",
      "max        644.000000    2453.000000    2467.000000     NaN     NaN   \n",
      "\n",
      "             Distance         AirlineName  \\\n",
      "count   199940.000000              199869   \n",
      "unique            NaN                  19   \n",
      "top               NaN  Southwest Airlines   \n",
      "freq              NaN               39087   \n",
      "mean       765.021571                 NaN   \n",
      "std        572.879354                 NaN   \n",
      "min         11.000000                 NaN   \n",
      "25%        340.000000                 NaN   \n",
      "50%        608.000000                 NaN   \n",
      "75%        998.000000                 NaN   \n",
      "max       4962.000000                 NaN   \n",
      "\n",
      "                                           AirportOrigin  \\\n",
      "count                                             199868   \n",
      "unique                                               296   \n",
      "top     Hartsfield Jackson Atlanta International Airport   \n",
      "freq                                               13614   \n",
      "mean                                                 NaN   \n",
      "std                                                  NaN   \n",
      "min                                                  NaN   \n",
      "25%                                                  NaN   \n",
      "50%                                                  NaN   \n",
      "75%                                                  NaN   \n",
      "max                                                  NaN   \n",
      "\n",
      "                                 AirportDest  \n",
      "count                                 199845  \n",
      "unique                                   299  \n",
      "top     Chicago O'Hare International Airport  \n",
      "freq                                   11128  \n",
      "mean                                     NaN  \n",
      "std                                      NaN  \n",
      "min                                      NaN  \n",
      "25%                                      NaN  \n",
      "50%                                      NaN  \n",
      "75%                                      NaN  \n",
      "max                                      NaN  \n"
     ]
    }
   ],
   "source": [
    "resumenEx2 = Reduced_DlydFlghts.describe(include='all')\n",
    "print('Resum estadístic:\\n', resumenEx2)"
   ]
  },
  {
   "cell_type": "markdown",
   "id": "44087884",
   "metadata": {},
   "source": [
    "Volem saber quants nulls hi ha al dataset"
   ]
  },
  {
   "cell_type": "code",
   "execution_count": 40,
   "id": "58dfbd2c",
   "metadata": {},
   "outputs": [
    {
     "name": "stdout",
     "output_type": "stream",
     "text": [
      "AirTime          813\n",
      "ArrDelay         813\n",
      "DepDelay           0\n",
      "Origin             0\n",
      "Dest               0\n",
      "Distance           0\n",
      "AirlineName       71\n",
      "AirportOrigin     72\n",
      "AirportDest       95\n",
      "dtype: int64\n"
     ]
    }
   ],
   "source": [
    "print(Reduced_DlydFlghts.isnull().sum())"
   ]
  },
  {
   "cell_type": "markdown",
   "id": "2fbe69d5",
   "metadata": {},
   "source": [
    "Podem veure que les variables que tenen més quantitat de nuls són:\n",
    "\n",
    "    - ActualElapsedTime\n",
    "    - Airtime \n",
    "    - DepDelay"
   ]
  },
  {
   "cell_type": "markdown",
   "id": "7fa75717",
   "metadata": {},
   "source": [
    "Ara crearem una nova columna amb la velocitat mitjana de vol, per a poder tenir clar les unitas vaig revisar la distància entre els aeroports"
   ]
  },
  {
   "cell_type": "code",
   "execution_count": 41,
   "id": "f956eb12",
   "metadata": {},
   "outputs": [
    {
     "name": "stdout",
     "output_type": "stream",
     "text": [
      "1782417    7.327684\n",
      "512712     6.072727\n",
      "447137     3.409091\n",
      "55082      4.437500\n",
      "877634     6.097015\n",
      "             ...   \n",
      "1106815    5.904762\n",
      "269784     5.976471\n",
      "627539     5.821429\n",
      "292264     8.010101\n",
      "554861     7.018405\n",
      "Name: MiMin, Length: 199940, dtype: float64\n"
     ]
    }
   ],
   "source": [
    "Reduced_DlydFlghts.loc[:, \"MiMin\"] = Reduced_DlydFlghts[\"Distance\"] / Reduced_DlydFlghts[\"AirTime\"]\n",
    "print(Reduced_DlydFlghts['MiMin'])"
   ]
  },
  {
   "cell_type": "markdown",
   "id": "08630fd7",
   "metadata": {},
   "source": [
    "Ara revisarem quines son les aerolínes amb més retrasos.\n",
    "Veiem que les aerolínes amb més retrasos totals son Southwest, American Airlines y Envoy Air en aquest ordre"
   ]
  },
  {
   "cell_type": "code",
   "execution_count": 42,
   "id": "1ccccd78",
   "metadata": {},
   "outputs": [
    {
     "name": "stdout",
     "output_type": "stream",
     "text": [
      "             AirlineName  TotalDelays\n",
      "16    Southwest Airlines        72705\n",
      "2      American Airlines        37252\n",
      "7              Envoy Air        28133\n",
      "18       United Airlines        27502\n",
      "15      SkyWest Airlines        26438\n",
      "4        Delta Air Lines        22289\n",
      "5   Delux Public Charter        20635\n",
      "3             Cobalt Air        19162\n",
      "17            US Airways        18851\n",
      "8    ExpressJet Airlines        16485\n",
      "13        Nwest Airlines        15337\n",
      "0        Airtran Airways        13978\n",
      "12         Mesa Airlines        13527\n",
      "11               JetBlue        10719\n",
      "14          PSA Airlines        10338\n",
      "6           Endeavor Air         9813\n",
      "1        Alaska Airlines         7564\n",
      "9      Frontier Airlines         5726\n",
      "10     Hawaiian Airlines         1509\n"
     ]
    }
   ],
   "source": [
    "delay_counts = Reduced_DlydFlghts.groupby('AirlineName')[['ArrDelay', 'DepDelay']].apply(lambda x: (x > 0).sum()).reset_index()\n",
    "delay_counts['TotalDelays'] = delay_counts['ArrDelay'] + delay_counts['DepDelay']\n",
    "delay_counts = delay_counts.sort_values('TotalDelays', ascending=False)\n",
    "print(delay_counts[['AirlineName', 'TotalDelays']])"
   ]
  },
  {
   "cell_type": "markdown",
   "id": "fa5b6a02",
   "metadata": {},
   "source": [
    "Ara mirarem quins vols tenen retrasos, per això crearem una nova columna booleana on True serà que hi ha van haver retrasos ja sigui en la sortida o arribada i False que no.\n",
    "Vaig haver de revisar-ho un parell de vegades però sembla ser que tots els vols van tenir algún tipus de retràs, això ens fa pensar doncs que a l'exercici anterior realmente es tracta de quines aerolínes han tingut més vols"
   ]
  },
  {
   "cell_type": "code",
   "execution_count": 43,
   "id": "57ef13c4",
   "metadata": {},
   "outputs": [
    {
     "name": "stdout",
     "output_type": "stream",
     "text": [
      "1782417    True\n",
      "512712     True\n",
      "447137     True\n",
      "55082      True\n",
      "877634     True\n",
      "           ... \n",
      "1106815    True\n",
      "269784     True\n",
      "627539     True\n",
      "292264     True\n",
      "554861     True\n",
      "Name: Delay, Length: 199940, dtype: bool\n"
     ]
    }
   ],
   "source": [
    "Reduced_DlydFlghts['Delay'] = Reduced_DlydFlghts.apply(lambda row: row['DepDelay'] > 0 or row['ArrDelay'] > 0, axis=1)\n",
    "print(Reduced_DlydFlghts['Delay'])"
   ]
  },
  {
   "cell_type": "code",
   "execution_count": 44,
   "id": "2a28888a",
   "metadata": {},
   "outputs": [
    {
     "name": "stdout",
     "output_type": "stream",
     "text": [
      "True    199940\n",
      "Name: Delay, dtype: int64\n"
     ]
    }
   ],
   "source": [
    "countdelay = Reduced_DlydFlghts['Delay'].value_counts()\n",
    "print(countdelay)"
   ]
  },
  {
   "cell_type": "markdown",
   "id": "011cd354",
   "metadata": {},
   "source": [
    "¿Com sabem quins van ser els vols més llargs? Vaig recuperar Origin i Dest perquè resultava il·legible ambs els noms sencers dels aeroports, veiem aeroport d'origen, aeroport de destí i el temps de vol en minuts"
   ]
  },
  {
   "cell_type": "code",
   "execution_count": 45,
   "id": "92f1e69d",
   "metadata": {},
   "outputs": [
    {
     "name": "stdout",
     "output_type": "stream",
     "text": [
      "Origin  Dest\n",
      "SFO     JFK     75904.0\n",
      "LAX     JFK     73515.0\n",
      "JFK     LAX     72830.0\n",
      "        SFO     66446.0\n",
      "ORD     LAX     64596.0\n",
      "LAX     ORD     60502.0\n",
      "ORD     SFO     60340.0\n",
      "EWR     LAX     54330.0\n",
      "ATL     LAX     52591.0\n",
      "EWR     SFO     47329.0\n",
      "        IAH     47292.0\n",
      "DFW     LGA     46913.0\n",
      "SFO     ORD     46301.0\n",
      "LAX     HNL     46104.0\n",
      "ATL     LGA     45271.0\n",
      "Name: AirTime, dtype: float64\n"
     ]
    }
   ],
   "source": [
    "route_long_time = Reduced_DlydFlghts.groupby(['Origin', 'Dest'])['AirTime'].sum()\n",
    "sorted_routes = route_long_time.sort_values(ascending=False)\n",
    "print(sorted_routes.head(15))"
   ]
  },
  {
   "cell_type": "markdown",
   "id": "25d40852",
   "metadata": {},
   "source": [
    "Per mirar quines son les rutes amb més retrasos farem el mateix però hem de canviar els noms de les variables i quina columna haurem de sumar"
   ]
  },
  {
   "cell_type": "code",
   "execution_count": 46,
   "id": "94d7aadb",
   "metadata": {},
   "outputs": [
    {
     "name": "stdout",
     "output_type": "stream",
     "text": [
      "Origin  Dest\n",
      "LAX     SFO     470\n",
      "ORD     LGA     433\n",
      "SFO     LAX     432\n",
      "ATL     LGA     426\n",
      "LGA     ATL     361\n",
      "HOU     DAL     353\n",
      "ORD     EWR     349\n",
      "LAS     LAX     342\n",
      "ATL     EWR     341\n",
      "DFW     ORD     334\n",
      "ORD     DFW     333\n",
      "ATL     DFW     323\n",
      "DEN     LAX     315\n",
      "LAX     LAS     314\n",
      "ATL     MCO     312\n",
      "Name: Delay, dtype: int64\n"
     ]
    }
   ],
   "source": [
    "route_delay = Reduced_DlydFlghts.groupby(['Origin', 'Dest'])['Delay'].sum()\n",
    "sorted_routesdelay = route_delay.sort_values(ascending=False)\n",
    "print(sorted_routesdelay.head(15))"
   ]
  },
  {
   "cell_type": "markdown",
   "id": "47b136e0",
   "metadata": {},
   "source": [
    "Les rutes amb mès retrasos son LAX-SFO (Los Ángeles - San Francisco), SFO-LAX (San Francisco - Los Ángeles) y ORD-LGA (Chicago - Nova York) en aquest ordre"
   ]
  },
  {
   "cell_type": "markdown",
   "id": "e2917b1f",
   "metadata": {},
   "source": [
    "    Extra: Suma acumulativa proporcional de retrasos en los vuelos de aerolínies, he fet això perqué em vaig adonar que sempre tenen retrasos llavors sense fer-ho proporcionalmente al final era més aviat una llista que quina aerolinea ha tingut més vols"
   ]
  },
  {
   "cell_type": "code",
   "execution_count": 47,
   "id": "5f9e9661",
   "metadata": {},
   "outputs": [
    {
     "name": "stdout",
     "output_type": "stream",
     "text": [
      "             AirlineName  DelayProportion\n",
      "18     Hawaiian Airlines         0.001300\n",
      "17     Frontier Airlines         0.000334\n",
      "16       Alaska Airlines         0.000244\n",
      "15          Endeavor Air         0.000188\n",
      "14          PSA Airlines         0.000176\n",
      "13               JetBlue         0.000159\n",
      "12       Airtran Airways         0.000119\n",
      "10         Mesa Airlines         0.000114\n",
      "11        Nwest Airlines         0.000104\n",
      "8    ExpressJet Airlines         0.000082\n",
      "9             US Airways         0.000074\n",
      "7             Cobalt Air         0.000063\n",
      "6        Delta Air Lines         0.000051\n",
      "5   Delux Public Charter         0.000051\n",
      "4       SkyWest Airlines         0.000035\n",
      "3              Envoy Air         0.000028\n",
      "2        United Airlines         0.000023\n",
      "1      American Airlines         0.000013\n",
      "0     Southwest Airlines         0.000004\n"
     ]
    }
   ],
   "source": [
    "delay_counts2 = Reduced_DlydFlghts.groupby('AirlineName')[['ArrDelay', 'DepDelay']].sum().reset_index()\n",
    "delay_counts2['TotalDelays'] = delay_counts2['ArrDelay'] + delay_counts2['DepDelay']\n",
    "delay_counts2 = delay_counts2.sort_values('TotalDelays', ascending=False)\n",
    "delay_counts2['TotalDelays'] = delay_counts2['TotalDelays'].cumsum()\n",
    "delay_counts2['TotalDelays'] = delay_counts2['TotalDelays'] / delay_counts2['TotalDelays'].max()\n",
    "\n",
    "total_flights = Reduced_DlydFlghts.groupby('AirlineName').size().reset_index(name='TotalFlights')\n",
    "\n",
    "delay_counts2 = delay_counts2.merge(total_flights, on='AirlineName')\n",
    "delay_counts2['DelayProportion'] = delay_counts2['TotalDelays'] / delay_counts2['TotalFlights']\n",
    "delay_counts2 = delay_counts2.sort_values('DelayProportion', ascending=False)\n",
    "\n",
    "print(delay_counts2[['AirlineName', 'DelayProportion']])"
   ]
  },
  {
   "cell_type": "markdown",
   "id": "cb76f20f",
   "metadata": {},
   "source": [
    "### Exercici 3"
   ]
  },
  {
   "cell_type": "markdown",
   "id": "781303b8",
   "metadata": {},
   "source": [
    "Exporta el dataset net i amb les noves columnes a Excel."
   ]
  },
  {
   "cell_type": "markdown",
   "id": "4a087920",
   "metadata": {},
   "source": [
    "Farem una ultima ullada al nostre dataset per estar segurs de que tot està en ordre"
   ]
  },
  {
   "cell_type": "code",
   "execution_count": 51,
   "id": "17aaf3d4",
   "metadata": {},
   "outputs": [
    {
     "name": "stdout",
     "output_type": "stream",
     "text": [
      "         AirTime  ArrDelay  DepDelay  Distance          AirlineName  \\\n",
      "1782417    177.0      71.0      10.0      1297        Mesa Airlines   \n",
      "512712      55.0     548.0     560.0       334       Nwest Airlines   \n",
      "447137      44.0       9.0      21.0       150     SkyWest Airlines   \n",
      "55082       32.0      52.0      54.0       142     SkyWest Airlines   \n",
      "877634     134.0      22.0       7.0       817           Cobalt Air   \n",
      "...          ...       ...       ...       ...                  ...   \n",
      "1106815     42.0      12.0      13.0       248   Southwest Airlines   \n",
      "269784      85.0      16.0      24.0       508           US Airways   \n",
      "627539      56.0       5.0       7.0       326     SkyWest Airlines   \n",
      "292264      99.0      -3.0       7.0       793  ExpressJet Airlines   \n",
      "554861     163.0     133.0     138.0      1144              JetBlue   \n",
      "\n",
      "                                            AirportOrigin  \\\n",
      "1782417           Washington Dulles International Airport   \n",
      "512712               Chicago O'Hare International Airport   \n",
      "447137               Salt Lake City International Airport   \n",
      "55082                                Yampa Valley Airport   \n",
      "877634                 Jacksonville International Airport   \n",
      "...                                                   ...   \n",
      "1106815                 San Antonio International Airport   \n",
      "269784            Charlotte Douglas International Airport   \n",
      "627539                                   Bob Hope Airport   \n",
      "292264   Hartsfield Jackson Atlanta International Airport   \n",
      "554861              Buffalo Niagara International Airport   \n",
      "\n",
      "                                               AirportDest     MiMin  Delay  \n",
      "1782417             Austin Bergstrom International Airport  7.327684   True  \n",
      "512712   Minneapolis-St Paul International/Wold-Chamber...  6.072727   True  \n",
      "447137                          Pocatello Regional Airport  3.409091   True  \n",
      "55082                         Denver International Airport  4.437500   True  \n",
      "877634        George Bush Intercontinental Houston Airport  6.097015   True  \n",
      "...                                                    ...       ...    ...  \n",
      "1106815                                  Dallas Love Field  5.904762   True  \n",
      "269784                         Tampa International Airport  5.976471   True  \n",
      "627539                 San Francisco International Airport  5.821429   True  \n",
      "292264              Syracuse Hancock International Airport  8.010101   True  \n",
      "554861             Southwest Florida International Airport  7.018405   True  \n",
      "\n",
      "[199940 rows x 9 columns]\n"
     ]
    }
   ],
   "source": [
    "print(Reduced_DlydFlghts)"
   ]
  },
  {
   "cell_type": "markdown",
   "id": "f5ace4e5",
   "metadata": {},
   "source": [
    "    vist així podem treure ja Origin i Dest on son els codis AITA"
   ]
  },
  {
   "cell_type": "code",
   "execution_count": 52,
   "id": "3ffb3b89",
   "metadata": {},
   "outputs": [
    {
     "ename": "KeyError",
     "evalue": "\"['Origin', 'Dest'] not found in axis\"",
     "output_type": "error",
     "traceback": [
      "\u001b[1;31m---------------------------------------------------------------------------\u001b[0m",
      "\u001b[1;31mKeyError\u001b[0m                                  Traceback (most recent call last)",
      "Cell \u001b[1;32mIn[52], line 1\u001b[0m\n\u001b[1;32m----> 1\u001b[0m Reduced_DlydFlghts \u001b[38;5;241m=\u001b[39m \u001b[43mReduced_DlydFlghts\u001b[49m\u001b[38;5;241;43m.\u001b[39;49m\u001b[43mdrop\u001b[49m\u001b[43m(\u001b[49m\u001b[43m[\u001b[49m\u001b[38;5;124;43m'\u001b[39;49m\u001b[38;5;124;43mOrigin\u001b[39;49m\u001b[38;5;124;43m'\u001b[39;49m\u001b[43m,\u001b[49m\u001b[38;5;124;43m'\u001b[39;49m\u001b[38;5;124;43mDest\u001b[39;49m\u001b[38;5;124;43m'\u001b[39;49m\u001b[43m]\u001b[49m\u001b[43m,\u001b[49m\u001b[43m \u001b[49m\u001b[43maxis\u001b[49m\u001b[38;5;241;43m=\u001b[39;49m\u001b[38;5;241;43m1\u001b[39;49m\u001b[43m)\u001b[49m\n",
      "File \u001b[1;32m~\\anaconda3\\lib\\site-packages\\pandas\\util\\_decorators.py:331\u001b[0m, in \u001b[0;36mdeprecate_nonkeyword_arguments.<locals>.decorate.<locals>.wrapper\u001b[1;34m(*args, **kwargs)\u001b[0m\n\u001b[0;32m    325\u001b[0m \u001b[38;5;28;01mif\u001b[39;00m \u001b[38;5;28mlen\u001b[39m(args) \u001b[38;5;241m>\u001b[39m num_allow_args:\n\u001b[0;32m    326\u001b[0m     warnings\u001b[38;5;241m.\u001b[39mwarn(\n\u001b[0;32m    327\u001b[0m         msg\u001b[38;5;241m.\u001b[39mformat(arguments\u001b[38;5;241m=\u001b[39m_format_argument_list(allow_args)),\n\u001b[0;32m    328\u001b[0m         \u001b[38;5;167;01mFutureWarning\u001b[39;00m,\n\u001b[0;32m    329\u001b[0m         stacklevel\u001b[38;5;241m=\u001b[39mfind_stack_level(),\n\u001b[0;32m    330\u001b[0m     )\n\u001b[1;32m--> 331\u001b[0m \u001b[38;5;28;01mreturn\u001b[39;00m func(\u001b[38;5;241m*\u001b[39margs, \u001b[38;5;241m*\u001b[39m\u001b[38;5;241m*\u001b[39mkwargs)\n",
      "File \u001b[1;32m~\\anaconda3\\lib\\site-packages\\pandas\\core\\frame.py:5399\u001b[0m, in \u001b[0;36mDataFrame.drop\u001b[1;34m(self, labels, axis, index, columns, level, inplace, errors)\u001b[0m\n\u001b[0;32m   5251\u001b[0m \u001b[38;5;129m@deprecate_nonkeyword_arguments\u001b[39m(version\u001b[38;5;241m=\u001b[39m\u001b[38;5;28;01mNone\u001b[39;00m, allowed_args\u001b[38;5;241m=\u001b[39m[\u001b[38;5;124m\"\u001b[39m\u001b[38;5;124mself\u001b[39m\u001b[38;5;124m\"\u001b[39m, \u001b[38;5;124m\"\u001b[39m\u001b[38;5;124mlabels\u001b[39m\u001b[38;5;124m\"\u001b[39m])\n\u001b[0;32m   5252\u001b[0m \u001b[38;5;28;01mdef\u001b[39;00m \u001b[38;5;21mdrop\u001b[39m(  \u001b[38;5;66;03m# type: ignore[override]\u001b[39;00m\n\u001b[0;32m   5253\u001b[0m     \u001b[38;5;28mself\u001b[39m,\n\u001b[1;32m   (...)\u001b[0m\n\u001b[0;32m   5260\u001b[0m     errors: IgnoreRaise \u001b[38;5;241m=\u001b[39m \u001b[38;5;124m\"\u001b[39m\u001b[38;5;124mraise\u001b[39m\u001b[38;5;124m\"\u001b[39m,\n\u001b[0;32m   5261\u001b[0m ) \u001b[38;5;241m-\u001b[39m\u001b[38;5;241m>\u001b[39m DataFrame \u001b[38;5;241m|\u001b[39m \u001b[38;5;28;01mNone\u001b[39;00m:\n\u001b[0;32m   5262\u001b[0m     \u001b[38;5;124;03m\"\"\"\u001b[39;00m\n\u001b[0;32m   5263\u001b[0m \u001b[38;5;124;03m    Drop specified labels from rows or columns.\u001b[39;00m\n\u001b[0;32m   5264\u001b[0m \n\u001b[1;32m   (...)\u001b[0m\n\u001b[0;32m   5397\u001b[0m \u001b[38;5;124;03m            weight  1.0     0.8\u001b[39;00m\n\u001b[0;32m   5398\u001b[0m \u001b[38;5;124;03m    \"\"\"\u001b[39;00m\n\u001b[1;32m-> 5399\u001b[0m     \u001b[38;5;28;01mreturn\u001b[39;00m \u001b[38;5;28;43msuper\u001b[39;49m\u001b[43m(\u001b[49m\u001b[43m)\u001b[49m\u001b[38;5;241;43m.\u001b[39;49m\u001b[43mdrop\u001b[49m\u001b[43m(\u001b[49m\n\u001b[0;32m   5400\u001b[0m \u001b[43m        \u001b[49m\u001b[43mlabels\u001b[49m\u001b[38;5;241;43m=\u001b[39;49m\u001b[43mlabels\u001b[49m\u001b[43m,\u001b[49m\n\u001b[0;32m   5401\u001b[0m \u001b[43m        \u001b[49m\u001b[43maxis\u001b[49m\u001b[38;5;241;43m=\u001b[39;49m\u001b[43maxis\u001b[49m\u001b[43m,\u001b[49m\n\u001b[0;32m   5402\u001b[0m \u001b[43m        \u001b[49m\u001b[43mindex\u001b[49m\u001b[38;5;241;43m=\u001b[39;49m\u001b[43mindex\u001b[49m\u001b[43m,\u001b[49m\n\u001b[0;32m   5403\u001b[0m \u001b[43m        \u001b[49m\u001b[43mcolumns\u001b[49m\u001b[38;5;241;43m=\u001b[39;49m\u001b[43mcolumns\u001b[49m\u001b[43m,\u001b[49m\n\u001b[0;32m   5404\u001b[0m \u001b[43m        \u001b[49m\u001b[43mlevel\u001b[49m\u001b[38;5;241;43m=\u001b[39;49m\u001b[43mlevel\u001b[49m\u001b[43m,\u001b[49m\n\u001b[0;32m   5405\u001b[0m \u001b[43m        \u001b[49m\u001b[43minplace\u001b[49m\u001b[38;5;241;43m=\u001b[39;49m\u001b[43minplace\u001b[49m\u001b[43m,\u001b[49m\n\u001b[0;32m   5406\u001b[0m \u001b[43m        \u001b[49m\u001b[43merrors\u001b[49m\u001b[38;5;241;43m=\u001b[39;49m\u001b[43merrors\u001b[49m\u001b[43m,\u001b[49m\n\u001b[0;32m   5407\u001b[0m \u001b[43m    \u001b[49m\u001b[43m)\u001b[49m\n",
      "File \u001b[1;32m~\\anaconda3\\lib\\site-packages\\pandas\\util\\_decorators.py:331\u001b[0m, in \u001b[0;36mdeprecate_nonkeyword_arguments.<locals>.decorate.<locals>.wrapper\u001b[1;34m(*args, **kwargs)\u001b[0m\n\u001b[0;32m    325\u001b[0m \u001b[38;5;28;01mif\u001b[39;00m \u001b[38;5;28mlen\u001b[39m(args) \u001b[38;5;241m>\u001b[39m num_allow_args:\n\u001b[0;32m    326\u001b[0m     warnings\u001b[38;5;241m.\u001b[39mwarn(\n\u001b[0;32m    327\u001b[0m         msg\u001b[38;5;241m.\u001b[39mformat(arguments\u001b[38;5;241m=\u001b[39m_format_argument_list(allow_args)),\n\u001b[0;32m    328\u001b[0m         \u001b[38;5;167;01mFutureWarning\u001b[39;00m,\n\u001b[0;32m    329\u001b[0m         stacklevel\u001b[38;5;241m=\u001b[39mfind_stack_level(),\n\u001b[0;32m    330\u001b[0m     )\n\u001b[1;32m--> 331\u001b[0m \u001b[38;5;28;01mreturn\u001b[39;00m func(\u001b[38;5;241m*\u001b[39margs, \u001b[38;5;241m*\u001b[39m\u001b[38;5;241m*\u001b[39mkwargs)\n",
      "File \u001b[1;32m~\\anaconda3\\lib\\site-packages\\pandas\\core\\generic.py:4505\u001b[0m, in \u001b[0;36mNDFrame.drop\u001b[1;34m(self, labels, axis, index, columns, level, inplace, errors)\u001b[0m\n\u001b[0;32m   4503\u001b[0m \u001b[38;5;28;01mfor\u001b[39;00m axis, labels \u001b[38;5;129;01min\u001b[39;00m axes\u001b[38;5;241m.\u001b[39mitems():\n\u001b[0;32m   4504\u001b[0m     \u001b[38;5;28;01mif\u001b[39;00m labels \u001b[38;5;129;01mis\u001b[39;00m \u001b[38;5;129;01mnot\u001b[39;00m \u001b[38;5;28;01mNone\u001b[39;00m:\n\u001b[1;32m-> 4505\u001b[0m         obj \u001b[38;5;241m=\u001b[39m \u001b[43mobj\u001b[49m\u001b[38;5;241;43m.\u001b[39;49m\u001b[43m_drop_axis\u001b[49m\u001b[43m(\u001b[49m\u001b[43mlabels\u001b[49m\u001b[43m,\u001b[49m\u001b[43m \u001b[49m\u001b[43maxis\u001b[49m\u001b[43m,\u001b[49m\u001b[43m \u001b[49m\u001b[43mlevel\u001b[49m\u001b[38;5;241;43m=\u001b[39;49m\u001b[43mlevel\u001b[49m\u001b[43m,\u001b[49m\u001b[43m \u001b[49m\u001b[43merrors\u001b[49m\u001b[38;5;241;43m=\u001b[39;49m\u001b[43merrors\u001b[49m\u001b[43m)\u001b[49m\n\u001b[0;32m   4507\u001b[0m \u001b[38;5;28;01mif\u001b[39;00m inplace:\n\u001b[0;32m   4508\u001b[0m     \u001b[38;5;28mself\u001b[39m\u001b[38;5;241m.\u001b[39m_update_inplace(obj)\n",
      "File \u001b[1;32m~\\anaconda3\\lib\\site-packages\\pandas\\core\\generic.py:4546\u001b[0m, in \u001b[0;36mNDFrame._drop_axis\u001b[1;34m(self, labels, axis, level, errors, only_slice)\u001b[0m\n\u001b[0;32m   4544\u001b[0m         new_axis \u001b[38;5;241m=\u001b[39m axis\u001b[38;5;241m.\u001b[39mdrop(labels, level\u001b[38;5;241m=\u001b[39mlevel, errors\u001b[38;5;241m=\u001b[39merrors)\n\u001b[0;32m   4545\u001b[0m     \u001b[38;5;28;01melse\u001b[39;00m:\n\u001b[1;32m-> 4546\u001b[0m         new_axis \u001b[38;5;241m=\u001b[39m \u001b[43maxis\u001b[49m\u001b[38;5;241;43m.\u001b[39;49m\u001b[43mdrop\u001b[49m\u001b[43m(\u001b[49m\u001b[43mlabels\u001b[49m\u001b[43m,\u001b[49m\u001b[43m \u001b[49m\u001b[43merrors\u001b[49m\u001b[38;5;241;43m=\u001b[39;49m\u001b[43merrors\u001b[49m\u001b[43m)\u001b[49m\n\u001b[0;32m   4547\u001b[0m     indexer \u001b[38;5;241m=\u001b[39m axis\u001b[38;5;241m.\u001b[39mget_indexer(new_axis)\n\u001b[0;32m   4549\u001b[0m \u001b[38;5;66;03m# Case for non-unique axis\u001b[39;00m\n\u001b[0;32m   4550\u001b[0m \u001b[38;5;28;01melse\u001b[39;00m:\n",
      "File \u001b[1;32m~\\anaconda3\\lib\\site-packages\\pandas\\core\\indexes\\base.py:6934\u001b[0m, in \u001b[0;36mIndex.drop\u001b[1;34m(self, labels, errors)\u001b[0m\n\u001b[0;32m   6932\u001b[0m \u001b[38;5;28;01mif\u001b[39;00m mask\u001b[38;5;241m.\u001b[39many():\n\u001b[0;32m   6933\u001b[0m     \u001b[38;5;28;01mif\u001b[39;00m errors \u001b[38;5;241m!=\u001b[39m \u001b[38;5;124m\"\u001b[39m\u001b[38;5;124mignore\u001b[39m\u001b[38;5;124m\"\u001b[39m:\n\u001b[1;32m-> 6934\u001b[0m         \u001b[38;5;28;01mraise\u001b[39;00m \u001b[38;5;167;01mKeyError\u001b[39;00m(\u001b[38;5;124mf\u001b[39m\u001b[38;5;124m\"\u001b[39m\u001b[38;5;132;01m{\u001b[39;00m\u001b[38;5;28mlist\u001b[39m(labels[mask])\u001b[38;5;132;01m}\u001b[39;00m\u001b[38;5;124m not found in axis\u001b[39m\u001b[38;5;124m\"\u001b[39m)\n\u001b[0;32m   6935\u001b[0m     indexer \u001b[38;5;241m=\u001b[39m indexer[\u001b[38;5;241m~\u001b[39mmask]\n\u001b[0;32m   6936\u001b[0m \u001b[38;5;28;01mreturn\u001b[39;00m \u001b[38;5;28mself\u001b[39m\u001b[38;5;241m.\u001b[39mdelete(indexer)\n",
      "\u001b[1;31mKeyError\u001b[0m: \"['Origin', 'Dest'] not found in axis\""
     ]
    }
   ],
   "source": [
    "Reduced_DlydFlghts = Reduced_DlydFlghts.drop(['Origin','Dest'], axis=1)"
   ]
  },
  {
   "cell_type": "markdown",
   "id": "4221f999",
   "metadata": {},
   "source": [
    "i ho exportem a format xlsx"
   ]
  },
  {
   "cell_type": "code",
   "execution_count": null,
   "id": "c7c6d002",
   "metadata": {},
   "outputs": [],
   "source": [
    "Reduced_DlydFlghts.to_excel('DelayedFlights0523.xlsx', index=False)"
   ]
  }
 ],
 "metadata": {
  "kernelspec": {
   "display_name": "Python 3 (ipykernel)",
   "language": "python",
   "name": "python3"
  },
  "language_info": {
   "codemirror_mode": {
    "name": "ipython",
    "version": 3
   },
   "file_extension": ".py",
   "mimetype": "text/x-python",
   "name": "python",
   "nbconvert_exporter": "python",
   "pygments_lexer": "ipython3",
   "version": "3.9.13"
  }
 },
 "nbformat": 4,
 "nbformat_minor": 5
}
