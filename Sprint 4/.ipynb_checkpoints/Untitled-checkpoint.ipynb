{
 "cells": [
  {
   "cell_type": "markdown",
   "id": "ffbe4b5b",
   "metadata": {},
   "source": [
    "# Tasca M4T02"
   ]
  },
  {
   "cell_type": "code",
   "execution_count": null,
   "id": "dd9ea72c",
   "metadata": {},
   "outputs": [],
   "source": [
    "## Exercici 1"
   ]
  },
  {
   "cell_type": "markdown",
   "id": "0eed90d5",
   "metadata": {},
   "source": [
    "Realitza la pràctica del notebook a GitHub \"03 EXAMINING DATA\" (fes una còpia i executa els comandaments amb el mateix dataset county.txt). Aquest exercici consisteix a observar les diferents possibilitats que ofereixen les diferents llibreries de visualització gràfica."
   ]
  },
  {
   "cell_type": "code",
   "execution_count": null,
   "id": "47d4b339",
   "metadata": {},
   "outputs": [],
   "source": []
  }
 ],
 "metadata": {
  "kernelspec": {
   "display_name": "Python 3 (ipykernel)",
   "language": "python",
   "name": "python3"
  },
  "language_info": {
   "codemirror_mode": {
    "name": "ipython",
    "version": 3
   },
   "file_extension": ".py",
   "mimetype": "text/x-python",
   "name": "python",
   "nbconvert_exporter": "python",
   "pygments_lexer": "ipython3",
   "version": "3.9.13"
  }
 },
 "nbformat": 4,
 "nbformat_minor": 5
}
