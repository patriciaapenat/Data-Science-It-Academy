{
 "cells": [
  {
   "cell_type": "code",
   "execution_count": 1,
   "id": "7bf9c8a4",
   "metadata": {},
   "outputs": [
    {
     "name": "stdout",
     "output_type": "stream",
     "text": [
      " El volumen de la unidad C no tiene etiqueta.\n",
      " El n£mero de serie del volumen es: 708F-7E6E\n",
      "\n",
      " Directorio de C:\\Users\\Patricia\\Desktop\\Github\\Data-Science-It-Academy\n",
      "\n",
      "29/05/2023  11:08    <DIR>          .\n",
      "10/05/2023  09:41    <DIR>          ..\n",
      "29/05/2023  11:08    <DIR>          .ipynb_checkpoints\n",
      "29/05/2023  11:06             3,750 Examen.ipynb\n",
      "29/05/2023  11:00    <DIR>          Material\n",
      "09/05/2023  09:51                60 README.md\n",
      "09/05/2023  09:51    <DIR>          Sprint 1\n",
      "09/05/2023  09:51    <DIR>          Sprint 2\n",
      "28/05/2023  19:09    <DIR>          Sprint 3\n",
      "24/05/2023  09:25    <DIR>          Sprint 4\n",
      "               2 archivos          3,810 bytes\n",
      "               8 dirs  53,830,938,624 bytes libres\n"
     ]
    }
   ],
   "source": [
    "ls"
   ]
  },
  {
   "cell_type": "code",
   "execution_count": null,
   "id": "ff6948c7",
   "metadata": {},
   "outputs": [],
   "source": []
  }
 ],
 "metadata": {
  "kernelspec": {
   "display_name": "Python 3 (ipykernel)",
   "language": "python",
   "name": "python3"
  },
  "language_info": {
   "codemirror_mode": {
    "name": "ipython",
    "version": 3
   },
   "file_extension": ".py",
   "mimetype": "text/x-python",
   "name": "python",
   "nbconvert_exporter": "python",
   "pygments_lexer": "ipython3",
   "version": "3.9.13"
  }
 },
 "nbformat": 4,
 "nbformat_minor": 5
}
