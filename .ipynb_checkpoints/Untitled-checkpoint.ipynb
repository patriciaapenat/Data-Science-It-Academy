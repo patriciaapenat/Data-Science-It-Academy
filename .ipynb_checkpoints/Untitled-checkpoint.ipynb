{
 "cells": [
  {
   "cell_type": "code",
   "execution_count": 4,
   "id": "8d50d582",
   "metadata": {},
   "outputs": [
    {
     "name": "stdout",
     "output_type": "stream",
     "text": [
      "         Country  Population\n",
      "0          Spain    46750238\n",
      "1        Germany    83019200\n",
      "2         France    66991000\n",
      "3          Italy    60359546\n",
      "4  United States   331002651\n",
      "5         Canada    37742154\n"
     ]
    }
   ],
   "source": [
    "import pandas as pd\n",
    "# Ejemplo de DataFrame con países\n",
    "data = {\n",
    "    'Country': ['Spain', 'Germany', 'France', 'Italy', 'United States', 'Canada'],\n",
    "    'Population': [46750238, 83019200, 66991000, 60359546, 331002651, 37742154]\n",
    "}\n",
    "\n",
    "df = pd.DataFrame(data)\n",
    "\n",
    "print(df)"
   ]
  },
  {
   "cell_type": "code",
   "execution_count": 8,
   "id": "e7c5788e",
   "metadata": {},
   "outputs": [
    {
     "name": "stdout",
     "output_type": "stream",
     "text": [
      "         Country  Population ISO2 ISO3\n",
      "0          Spain    46750238  NaN  NaN\n",
      "1        Germany    83019200  NaN  NaN\n",
      "2         France    66991000   FR  FRA\n",
      "3          Italy    60359546  NaN  NaN\n",
      "4  United States   331002651  NaN  NaN\n",
      "5         Canada    37742154  NaN  NaN\n"
     ]
    }
   ],
   "source": [
    "import pycountry\n",
    "import pandas as pd\n",
    "\n",
    "def obtener_codigos_ISO(pais):\n",
    "    try:\n",
    "        codigo = pycountry.countries.get(name=pais)\n",
    "        iso2 = codigo.alpha_2\n",
    "        iso3 = codigo.alpha_3\n",
    "        return iso2, iso3\n",
    "    except:\n",
    "        return None, None\n",
    "\n",
    "# Ejemplo de DataFrame con países\n",
    "data = {\n",
    "    'Country': ['Spain', 'Germany', 'France', 'Italy', 'United States', 'Canada'],\n",
    "    'Population': [46750238, 83019200, 66991000, 60359546, 331002651, 37742154]\n",
    "}\n",
    "\n",
    "df = pd.DataFrame(data)\n",
    "\n",
    "# Obtener los códigos ISO para la tercera fila (iloc[2])\n",
    "iso2, iso3 = obtener_codigos_ISO(df.iloc[2]['Country'])\n",
    "\n",
    "# Asignar los valores a las columnas correspondientes\n",
    "df.at[2, 'ISO2'] = iso2\n",
    "df.at[2, 'ISO3'] = iso3\n",
    "\n",
    "# Imprimir el DataFrame resultante\n",
    "print(df)"
   ]
  },
  {
   "cell_type": "code",
   "execution_count": 9,
   "id": "d6fcfaa5",
   "metadata": {},
   "outputs": [
    {
     "name": "stdout",
     "output_type": "stream",
     "text": [
      "         Country  Population ISO2 ISO3\n",
      "0          Spain    46750238   ES  ESP\n",
      "1        Germany    83019200   DE  DEU\n",
      "2         France    66991000   FR  FRA\n",
      "3          Italy    60359546   IT  ITA\n",
      "4  United States   331002651   US  USA\n",
      "5         Canada    37742154   CA  CAN\n"
     ]
    }
   ],
   "source": [
    "import pycountry\n",
    "import pandas as pd\n",
    "\n",
    "def obtener_codigos_ISO(pais):\n",
    "    try:\n",
    "        codigo = pycountry.countries.get(name=pais)\n",
    "        iso2 = codigo.alpha_2\n",
    "        iso3 = codigo.alpha_3\n",
    "        return iso2, iso3\n",
    "    except:\n",
    "        return None, None\n",
    "\n",
    "# Aplicar la función al DataFrame\n",
    "df['ISO2'], df['ISO3'] = zip(*df['Country'].apply(obtener_codigos_ISO))\n",
    "\n",
    "# Imprimir el DataFrame resultante\n",
    "print(df)\n"
   ]
  },
  {
   "cell_type": "code",
   "execution_count": 12,
   "id": "cb845f5c",
   "metadata": {},
   "outputs": [
    {
     "name": "stdout",
     "output_type": "stream",
     "text": [
      "         Country  Population\n",
      "0          Spain    46750238\n",
      "1        Germany    83019200\n",
      "2         France    66991000\n",
      "3          Italy    60359546\n",
      "4  United States   331002651\n",
      "5         Canada    37742154\n"
     ]
    }
   ],
   "source": [
    "import pandas as pd\n",
    "\n",
    "data = {\n",
    "    'Country': ['Spain', 'Germany', 'France', 'Italy', 'United States', 'Canada'],\n",
    "    'Population': [46750238, 83019200, 66991000, 60359546, 331002651, 37742154]\n",
    "}\n",
    "\n",
    "df = pd.DataFrame(data)\n",
    "\n",
    "print(df)"
   ]
  },
  {
   "cell_type": "code",
   "execution_count": 11,
   "id": "7840a5e1",
   "metadata": {},
   "outputs": [],
   "source": []
  }
 ],
 "metadata": {
  "kernelspec": {
   "display_name": "Python 3 (ipykernel)",
   "language": "python",
   "name": "python3"
  },
  "language_info": {
   "codemirror_mode": {
    "name": "ipython",
    "version": 3
   },
   "file_extension": ".py",
   "mimetype": "text/x-python",
   "name": "python",
   "nbconvert_exporter": "python",
   "pygments_lexer": "ipython3",
   "version": "3.9.13"
  }
 },
 "nbformat": 4,
 "nbformat_minor": 5
}
