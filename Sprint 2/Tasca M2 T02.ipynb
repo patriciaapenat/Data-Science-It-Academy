{
 "cells": [
  {
   "cell_type": "markdown",
   "id": "215b91ce",
   "metadata": {},
   "source": [
    "# Tasca M2 T02, Sprint 2"
   ]
  },
  {
   "cell_type": "markdown",
   "id": "e8e05239",
   "metadata": {},
   "source": [
    "## Exercici 1"
   ]
  },
  {
   "cell_type": "markdown",
   "id": "c8e4130c",
   "metadata": {},
   "source": [
    "##### L'exercici consisteix a crear un programa que et classifiqui una variable numèrica en funció de l’escala Suspès/Aprovat/Notable/Excel·lent. Recorda que Suspès < 5, Aprovat > 5 i < 7, Notable > 7 i < 9 i Excel·lent > 9."
   ]
  },
  {
   "cell_type": "code",
   "execution_count": 3,
   "id": "8fe499e1",
   "metadata": {},
   "outputs": [],
   "source": [
    "def escaladenotes(nota):\n",
    "    if nota >= 9:\n",
    "        return 'Excel·lent'\n",
    "    elif nota >= 7 and nota <= 8:\n",
    "        return 'Notable'\n",
    "    elif nota >= 5 and nota <= 6.9:\n",
    "        return 'Aprovat'\n",
    "    else:\n",
    "        return 'Suspès'"
   ]
  },
  {
   "cell_type": "markdown",
   "id": "b24023db",
   "metadata": {},
   "source": [
    "## Exercici 2"
   ]
  },
  {
   "cell_type": "markdown",
   "id": "6352334c",
   "metadata": {},
   "source": [
    "##### Utilitzant el següent tutorial crea un programa que et pregunti dos números. T’ha de mostrar un missatge dient si el primer és més gran, el segon és més gran o són iguals."
   ]
  },
  {
   "cell_type": "code",
   "execution_count": 14,
   "id": "2c6d3d78",
   "metadata": {},
   "outputs": [
    {
     "name": "stdout",
     "output_type": "stream",
     "text": [
      "Ingreseu un número: 19\n",
      "Ha ingresat: 19\n",
      "Ingreseu un altre número: 4\n",
      "Ha ingresat: 4\n",
      "El primer número és més gran\n"
     ]
    }
   ],
   "source": [
    "def programet(num1, num2):\n",
    "    if num1 > num2:\n",
    "        return \"El primer número és més gran\"\n",
    "    else:\n",
    "        return \"El segon número es més gran\"\n",
    "\n",
    "num1 = int(input('Ingreseu un número: '))\n",
    "print('Ha ingresat:', num1) \n",
    "num2 = int(input('Ingreseu un altre número: '))\n",
    "print('Ha ingresat:', num2) \n",
    "resultat1 = programet(num1,num2)\n",
    "print(resultat1)"
   ]
  },
  {
   "cell_type": "markdown",
   "id": "a322b99f",
   "metadata": {},
   "source": [
    "## Exercici 3"
   ]
  },
  {
   "cell_type": "markdown",
   "id": "5d084f47",
   "metadata": {},
   "source": [
    "##### Crea un programa que et pregunti el teu nom, i et demani un número. Si el número és 0, hauria de mostrar un missatge d’error. En cas contrari, hauria de mostrar el nom repetit tants cops com indiqui el número. Per exemple, “Joan Joan Joan”."
   ]
  },
  {
   "cell_type": "code",
   "execution_count": 49,
   "id": "33737b40",
   "metadata": {},
   "outputs": [
    {
     "name": "stdout",
     "output_type": "stream",
     "text": [
      "Com et dius? Patricia\n",
      "Un plaer, Patricia\n",
      "Digueu-me un número 9\n",
      "Heu triat 9\n",
      "Patricia\n",
      "Patricia\n",
      "Patricia\n",
      "Patricia\n",
      "Patricia\n",
      "Patricia\n",
      "Patricia\n",
      "Patricia\n",
      "Patricia\n"
     ]
    }
   ],
   "source": [
    "def programet2(nomusuari, nmrusuari):\n",
    "    if nmrusuari >=1:\n",
    "        for i in range(nmrusuari):\n",
    "            print(nomusuari)\n",
    "    else:\n",
    "        return 'Error'\n",
    "\n",
    "nomusuari = input('Com et dius? ')\n",
    "print('Un plaer,', nomusuari)\n",
    "nmrusuari = int(input('Digueu-me un número '))\n",
    "print('Heu triat', nmrusuari)\n",
    "programet2(nomusuari, nmrusuari)"
   ]
  },
  {
   "cell_type": "markdown",
   "id": "fbc333b0",
   "metadata": {},
   "source": [
    "## Exercici 4"
   ]
  },
  {
   "cell_type": "markdown",
   "id": "3e09fc24",
   "metadata": {},
   "source": [
    "##### Crea un programa que donada una llista qualsevol, et digui si és simètrica o no. Si ho és, que et digui quants elements té."
   ]
  },
  {
   "cell_type": "code",
   "execution_count": 70,
   "id": "f5e22564",
   "metadata": {},
   "outputs": [
    {
     "name": "stdout",
     "output_type": "stream",
     "text": [
      "Si us plau introduiu qualsevol cosa o pressioni enter, estàs introduint el valor 1:A\n",
      "Si us plau introduiu qualsevol cosa o pressioni enter, estàs introduint el valor 2:B\n",
      "Si us plau introduiu qualsevol cosa o pressioni enter, estàs introduint el valor 3:C\n",
      "Si us plau introduiu qualsevol cosa o pressioni enter, estàs introduint el valor 4:D\n",
      "Si us plau introduiu qualsevol cosa o pressioni enter, estàs introduint el valor 5:E\n",
      "Si us plau introduiu qualsevol cosa o pressioni enter, estàs introduint el valor 6:F\n",
      "Si us plau introduiu qualsevol cosa o pressioni enter, estàs introduint el valor 7:G\n",
      "Si us plau introduiu qualsevol cosa o pressioni enter, estàs introduint el valor 8:H\n",
      "Si us plau introduiu qualsevol cosa o pressioni enter, estàs introduint el valor 9:I\n",
      "Si us plau introduiu qualsevol cosa o pressioni enter, estàs introduint el valor 10:J\n",
      "Aquesta llista no és simètrica\n",
      "La teva llista seria: ['A', 'B', 'C', 'D', 'E', 'F', 'G', 'H', 'I', 'J']\n"
     ]
    }
   ],
   "source": [
    "llisteta = []\n",
    "i = 1\n",
    "while i < 11:\n",
    "    a = input(\"Si us plau introduiu qualsevol cosa o pressioni enter, estàs introduint el valor \" + str(i) + \":\")\n",
    "    llisteta.append(a)\n",
    "    i += 1\n",
    "\n",
    "if llisteta[0] == llisteta[-1]:\n",
    "    print('Aquesta llista és simètrica')\n",
    "else:\n",
    "    print('Aquesta llista no és simètrica')\n",
    "    \n",
    "print('La teva llista seria:', llisteta)"
   ]
  },
  {
   "cell_type": "markdown",
   "id": "aa263c45",
   "metadata": {},
   "source": [
    "## Exercici 5"
   ]
  },
  {
   "cell_type": "markdown",
   "id": "7b181969",
   "metadata": {},
   "source": [
    "##### Crea un programa que donada una llista, et digui quants números coincideixen amb la seva posició. Per exemple [3,4,2,0,2,3,6] el 2 i el 6 coincideixen."
   ]
  },
  {
   "cell_type": "code",
   "execution_count": 85,
   "id": "f2668be4",
   "metadata": {},
   "outputs": [
    {
     "name": "stdout",
     "output_type": "stream",
     "text": [
      "La llista introduïda és: [3, 4, 2, 0, 2, 3, 6]\n",
      "Hi ha, 2 números coincidents amb la seva posició, serien [2, 6]\n"
     ]
    }
   ],
   "source": [
    "def nmrscoincidents(llista):\n",
    "    coincidents = 0\n",
    "    coincidencies = []\n",
    "    for i, num in enumerate(llista):\n",
    "        if i == num:\n",
    "            coincidents += 1\n",
    "            coincidencies.append(num)\n",
    "    return coincidents, coincidencies\n",
    "\n",
    "num = [3, 4, 2, 0, 2, 3, 6]\n",
    "\n",
    "print(\"La llista introduïda és:\", num)\n",
    "coincidents, coincidencies = nmrscoincidents(num)\n",
    "print(f\"Hi ha, {coincidents} números coincidents amb la seva posició, serien {coincidencies}\")"
   ]
  },
  {
   "cell_type": "code",
   "execution_count": 88,
   "id": "0f73864b",
   "metadata": {
    "scrolled": true
   },
   "outputs": [
    {
     "name": "stdout",
     "output_type": "stream",
     "text": [
      "Si us plau introduiu qualsevol numero o, estàs introduint el valor 1: 3\n",
      "Si us plau introduiu qualsevol numero o, estàs introduint el valor 2: 4\n",
      "Si us plau introduiu qualsevol numero o, estàs introduint el valor 3: 2\n",
      "Si us plau introduiu qualsevol numero o, estàs introduint el valor 4: 0\n",
      "Si us plau introduiu qualsevol numero o, estàs introduint el valor 5: 2\n",
      "Si us plau introduiu qualsevol numero o, estàs introduint el valor 6: 3\n",
      "Si us plau introduiu qualsevol numero o, estàs introduint el valor 7: 6\n",
      "La llista introduïda és: [3, 4, 2, 0, 2, 3, 6]\n",
      "Hi ha, 2 números coincidents amb la seva posició, serien [2, 6]\n"
     ]
    }
   ],
   "source": [
    "#Versió amb input\n",
    "\n",
    "def nmrscoincidents(llista):\n",
    "    coincidents = 0\n",
    "    coincidencies = []\n",
    "    for i, num in enumerate(llista):\n",
    "        if i == num:\n",
    "            coincidents += 1\n",
    "            coincidencies.append(num)\n",
    "    return coincidents, coincidencies\n",
    "\n",
    "num = []\n",
    "i = 1\n",
    "while i < 8:\n",
    "    a = input(\"Si us plau introduiu qualsevol numero o, estàs introduint el valor \" + str(i) + \": \")\n",
    "    if a.isdigit():\n",
    "        num.append(int(a))\n",
    "        i += 1\n",
    "    else:\n",
    "        print(\"Entrada no vàlida. Si us plau, introduïu un número.\")\n",
    "\n",
    "print(\"La llista introduïda és:\", num)\n",
    "coincidents, coincidencies = nmrscoincidents(num)\n",
    "print(f\"Hi ha, {coincidents} números coincidents amb la seva posició, serien {coincidencies}\")"
   ]
  }
 ],
 "metadata": {
  "kernelspec": {
   "display_name": "Python 3 (ipykernel)",
   "language": "python",
   "name": "python3"
  },
  "language_info": {
   "codemirror_mode": {
    "name": "ipython",
    "version": 3
   },
   "file_extension": ".py",
   "mimetype": "text/x-python",
   "name": "python",
   "nbconvert_exporter": "python",
   "pygments_lexer": "ipython3",
   "version": "3.9.13"
  }
 },
 "nbformat": 4,
 "nbformat_minor": 5
}
